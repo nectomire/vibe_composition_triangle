{
 "cells": [
  {
   "cell_type": "markdown",
   "id": "b17b998c-e73f-4457-a0e5-31f834b90449",
   "metadata": {},
   "source": [
    "# Principal Component Analysis for vibe composition survey responses\n",
    "\n",
    "This notebook performs a PCA for the responses to the vibe composition survey. It takes a csv containing survey responses, plots the compoent variance of the survey responses, then plots a 1D and 3D PCA."
   ]
  },
  {
   "cell_type": "code",
   "execution_count": 29,
   "id": "68cbdd12-4724-46fe-94e8-0ba23c9621d4",
   "metadata": {},
   "outputs": [
    {
     "data": {
      "text/html": [
       "<div>\n",
       "<style scoped>\n",
       "    .dataframe tbody tr th:only-of-type {\n",
       "        vertical-align: middle;\n",
       "    }\n",
       "\n",
       "    .dataframe tbody tr th {\n",
       "        vertical-align: top;\n",
       "    }\n",
       "\n",
       "    .dataframe thead th {\n",
       "        text-align: right;\n",
       "    }\n",
       "</style>\n",
       "<table border=\"1\" class=\"dataframe\">\n",
       "  <thead>\n",
       "    <tr style=\"text-align: right;\">\n",
       "      <th></th>\n",
       "      <th>I prefer planning to spontaneity</th>\n",
       "      <th>I analyze practical problems from many angles before acting</th>\n",
       "      <th>I have refined tastes (in food, in fashion, or in design, etc.)</th>\n",
       "      <th>I am detail-oriented</th>\n",
       "      <th>I am strategic about the way I manage and prioritize my social relationships</th>\n",
       "      <th>I value my intelligence over my perceived sense of humor</th>\n",
       "      <th>I often act on gut feelings rather than detailed analysis</th>\n",
       "      <th>I have strong emotional reactions to things</th>\n",
       "      <th>I feel restless when I have to sit still for too long</th>\n",
       "      <th>My life can feel chaotic and/or messy</th>\n",
       "      <th>I derive my energy from building community</th>\n",
       "      <th>I value loyalty to others above my own individual needs</th>\n",
       "      <th>I am subject to whimsy</th>\n",
       "      <th>I am easygoing and have a chill disposition</th>\n",
       "      <th>I often enjoy \"winging it\" over preparing for new experiences</th>\n",
       "      <th>I value freedom in my schedule over being known for reliability</th>\n",
       "      <th>It's easy for me to feel comfortable in a new environment</th>\n",
       "      <th>I enjoy vibing with strangers as much as with friends (or more)</th>\n",
       "      <th>first_inits</th>\n",
       "    </tr>\n",
       "  </thead>\n",
       "  <tbody>\n",
       "    <tr>\n",
       "      <th>0</th>\n",
       "      <td>3</td>\n",
       "      <td>4</td>\n",
       "      <td>3</td>\n",
       "      <td>5</td>\n",
       "      <td>4</td>\n",
       "      <td>4</td>\n",
       "      <td>2</td>\n",
       "      <td>5</td>\n",
       "      <td>2</td>\n",
       "      <td>2</td>\n",
       "      <td>5</td>\n",
       "      <td>1</td>\n",
       "      <td>1</td>\n",
       "      <td>1</td>\n",
       "      <td>1</td>\n",
       "      <td>2</td>\n",
       "      <td>1</td>\n",
       "      <td>5</td>\n",
       "      <td>El</td>\n",
       "    </tr>\n",
       "    <tr>\n",
       "      <th>1</th>\n",
       "      <td>4</td>\n",
       "      <td>4</td>\n",
       "      <td>3</td>\n",
       "      <td>1</td>\n",
       "      <td>1</td>\n",
       "      <td>4</td>\n",
       "      <td>3</td>\n",
       "      <td>1</td>\n",
       "      <td>4</td>\n",
       "      <td>4</td>\n",
       "      <td>2</td>\n",
       "      <td>3</td>\n",
       "      <td>4</td>\n",
       "      <td>4</td>\n",
       "      <td>5</td>\n",
       "      <td>4</td>\n",
       "      <td>4</td>\n",
       "      <td>4</td>\n",
       "      <td>Be</td>\n",
       "    </tr>\n",
       "    <tr>\n",
       "      <th>2</th>\n",
       "      <td>5</td>\n",
       "      <td>3</td>\n",
       "      <td>3</td>\n",
       "      <td>4</td>\n",
       "      <td>3</td>\n",
       "      <td>3</td>\n",
       "      <td>4</td>\n",
       "      <td>2</td>\n",
       "      <td>3</td>\n",
       "      <td>1</td>\n",
       "      <td>3</td>\n",
       "      <td>2</td>\n",
       "      <td>5</td>\n",
       "      <td>5</td>\n",
       "      <td>2</td>\n",
       "      <td>2</td>\n",
       "      <td>2</td>\n",
       "      <td>4</td>\n",
       "      <td>Ju</td>\n",
       "    </tr>\n",
       "    <tr>\n",
       "      <th>3</th>\n",
       "      <td>3</td>\n",
       "      <td>5</td>\n",
       "      <td>5</td>\n",
       "      <td>4</td>\n",
       "      <td>5</td>\n",
       "      <td>3</td>\n",
       "      <td>1</td>\n",
       "      <td>1</td>\n",
       "      <td>4</td>\n",
       "      <td>5</td>\n",
       "      <td>5</td>\n",
       "      <td>4</td>\n",
       "      <td>2</td>\n",
       "      <td>4</td>\n",
       "      <td>4</td>\n",
       "      <td>2</td>\n",
       "      <td>4</td>\n",
       "      <td>1</td>\n",
       "      <td>Wa</td>\n",
       "    </tr>\n",
       "    <tr>\n",
       "      <th>4</th>\n",
       "      <td>1</td>\n",
       "      <td>2</td>\n",
       "      <td>4</td>\n",
       "      <td>5</td>\n",
       "      <td>4</td>\n",
       "      <td>2</td>\n",
       "      <td>4</td>\n",
       "      <td>2</td>\n",
       "      <td>4</td>\n",
       "      <td>4</td>\n",
       "      <td>5</td>\n",
       "      <td>4</td>\n",
       "      <td>2</td>\n",
       "      <td>4</td>\n",
       "      <td>5</td>\n",
       "      <td>2</td>\n",
       "      <td>1</td>\n",
       "      <td>1</td>\n",
       "      <td>Ka</td>\n",
       "    </tr>\n",
       "  </tbody>\n",
       "</table>\n",
       "</div>"
      ],
      "text/plain": [
       "   I prefer planning to spontaneity  \\\n",
       "0                                 3   \n",
       "1                                 4   \n",
       "2                                 5   \n",
       "3                                 3   \n",
       "4                                 1   \n",
       "\n",
       "   I analyze practical problems from many angles before acting  \\\n",
       "0                                                  4             \n",
       "1                                                  4             \n",
       "2                                                  3             \n",
       "3                                                  5             \n",
       "4                                                  2             \n",
       "\n",
       "   I have refined tastes (in food, in fashion, or in design, etc.)  \\\n",
       "0                                                  3                 \n",
       "1                                                  3                 \n",
       "2                                                  3                 \n",
       "3                                                  5                 \n",
       "4                                                  4                 \n",
       "\n",
       "   I am detail-oriented  \\\n",
       "0                     5   \n",
       "1                     1   \n",
       "2                     4   \n",
       "3                     4   \n",
       "4                     5   \n",
       "\n",
       "   I am strategic about the way I manage and prioritize my social relationships  \\\n",
       "0                                                  4                              \n",
       "1                                                  1                              \n",
       "2                                                  3                              \n",
       "3                                                  5                              \n",
       "4                                                  4                              \n",
       "\n",
       "   I value my intelligence over my perceived sense of humor  \\\n",
       "0                                                  4          \n",
       "1                                                  4          \n",
       "2                                                  3          \n",
       "3                                                  3          \n",
       "4                                                  2          \n",
       "\n",
       "   I often act on gut feelings rather than detailed analysis  \\\n",
       "0                                                  2           \n",
       "1                                                  3           \n",
       "2                                                  4           \n",
       "3                                                  1           \n",
       "4                                                  4           \n",
       "\n",
       "   I have strong emotional reactions to things  \\\n",
       "0                                            5   \n",
       "1                                            1   \n",
       "2                                            2   \n",
       "3                                            1   \n",
       "4                                            2   \n",
       "\n",
       "   I feel restless when I have to sit still for too long  \\\n",
       "0                                                  2       \n",
       "1                                                  4       \n",
       "2                                                  3       \n",
       "3                                                  4       \n",
       "4                                                  4       \n",
       "\n",
       "   My life can feel chaotic and/or messy  \\\n",
       "0                                      2   \n",
       "1                                      4   \n",
       "2                                      1   \n",
       "3                                      5   \n",
       "4                                      4   \n",
       "\n",
       "   I derive my energy from building community  \\\n",
       "0                                           5   \n",
       "1                                           2   \n",
       "2                                           3   \n",
       "3                                           5   \n",
       "4                                           5   \n",
       "\n",
       "   I value loyalty to others above my own individual needs  \\\n",
       "0                                                  1         \n",
       "1                                                  3         \n",
       "2                                                  2         \n",
       "3                                                  4         \n",
       "4                                                  4         \n",
       "\n",
       "   I am subject to whimsy  I am easygoing and have a chill disposition  \\\n",
       "0                       1                                            1   \n",
       "1                       4                                            4   \n",
       "2                       5                                            5   \n",
       "3                       2                                            4   \n",
       "4                       2                                            4   \n",
       "\n",
       "   I often enjoy \"winging it\" over preparing for new experiences  \\\n",
       "0                                                  1               \n",
       "1                                                  5               \n",
       "2                                                  2               \n",
       "3                                                  4               \n",
       "4                                                  5               \n",
       "\n",
       "   I value freedom in my schedule over being known for reliability  \\\n",
       "0                                                  2                 \n",
       "1                                                  4                 \n",
       "2                                                  2                 \n",
       "3                                                  2                 \n",
       "4                                                  2                 \n",
       "\n",
       "   It's easy for me to feel comfortable in a new environment  \\\n",
       "0                                                  1           \n",
       "1                                                  4           \n",
       "2                                                  2           \n",
       "3                                                  4           \n",
       "4                                                  1           \n",
       "\n",
       "   I enjoy vibing with strangers as much as with friends (or more) first_inits  \n",
       "0                                                  5                        El  \n",
       "1                                                  4                        Be  \n",
       "2                                                  4                        Ju  \n",
       "3                                                  1                        Wa  \n",
       "4                                                  1                        Ka  "
      ]
     },
     "execution_count": 29,
     "metadata": {},
     "output_type": "execute_result"
    }
   ],
   "source": [
    "import plotly.graph_objects as go \n",
    "import plotly.express as px \n",
    "import pandas as pd \n",
    "import os\n",
    "import numpy as np\n",
    "import numpy as np\n",
    "import matplotlib.pyplot as plt\n",
    "from sklearn.decomposition import PCA\n",
    "from scipy.spatial.distance import pdist, squareform\n",
    "\n",
    "\n",
    "project_fldr = r''    # for saving figs\n",
    "\n",
    "full_df = pd.read_csv(r'C:\\Users\\ellen\\OneDrive\\Documents\\projects\\vibe_composition\\personality-survey-friends.csv')  # df containing the raw survey responses\n",
    "full_df['first_inits'] = [name[0:2] for name in full_df['Name_First Name']]  # add a column for first 2 letters of first name\n",
    "\n",
    "# drop all the columns apart from direct numerical survey responses and name\n",
    "res_df = full_df.drop(['uuid','IP Address', 'Time Taken', 'Name_Last Name', 'created_at','Name_First Name'], axis='columns')\n",
    "res_df.head()"
   ]
  },
  {
   "cell_type": "markdown",
   "id": "51616a36-a579-451a-bad8-35e30c82c99f",
   "metadata": {},
   "source": [
    "### Quick and dirty plot of the variance by number of components"
   ]
  },
  {
   "cell_type": "code",
   "execution_count": 30,
   "id": "d76682a4-088c-45d6-9779-5ec6b6dcd191",
   "metadata": {},
   "outputs": [
    {
     "data": {
      "image/png": "[encoded data removed]",
      "text/plain": [
       "<Figure size 640x480 with 1 Axes>"
      ]
     },
     "metadata": {},
     "output_type": "display_data"
    }
   ],
   "source": [
    "def plot_component_variance(res_df):\n",
    "    data = res_df.drop(['first_inits'], axis='columns')   # a df used for the PCA -- survey responses only\n",
    "    pca = PCA().fit(data)\n",
    "    plt.plot(pca.explained_variance_ratio_)\n",
    "    plt.xlabel('number of components')\n",
    "    plt.ylabel('explained variance')\n",
    "    plt.show()\n",
    "\n",
    "plot_component_variance(res_df)"
   ]
  },
  {
   "cell_type": "markdown",
   "id": "586feff6-a9e9-4c4d-a932-53d3ccb678a5",
   "metadata": {},
   "source": [
    "### Plot 1D PCA to look at dimension with largest variance"
   ]
  },
  {
   "cell_type": "code",
   "execution_count": 31,
   "id": "170ed445-703c-4f05-a0c8-9ee08d2be152",
   "metadata": {},
   "outputs": [
    {
     "data": {
      "application/vnd.plotly.v1+json": {
       "config": {
        "plotlyServerURL": "https://plot.ly"
       },
       "data": [
        {
         "hovertemplate": "El",
         "marker": {
          "size": 16
         },
         "mode": "markers",
         "name": "",
         "showlegend": false,
         "type": "scatter",
         "x": [
          -6.02356001197239
         ],
         "y": [
          0.5
         ]
        },
        {
         "hovertemplate": "Be",
         "marker": {
          "size": 16
         },
         "mode": "markers",
         "name": "",
         "showlegend": false,
         "type": "scatter",
         "x": [
          2.3921261285217406
         ],
         "y": [
          0.5
         ]
        },
        {
         "hovertemplate": "Ju",
         "marker": {
          "size": 16
         },
         "mode": "markers",
         "name": "",
         "showlegend": false,
         "type": "scatter",
         "x": [
          -0.7775901124685829
         ],
         "y": [
          0.5
         ]
        },
        {
         "hovertemplate": "Wa",
         "marker": {
          "size": 16
         },
         "mode": "markers",
         "name": "",
         "showlegend": false,
         "type": "scatter",
         "x": [
          -0.2223908131341794
         ],
         "y": [
          0.5
         ]
        },
        {
         "hovertemplate": "Ka",
         "marker": {
          "size": 16
         },
         "mode": "markers",
         "name": "",
         "showlegend": false,
         "type": "scatter",
         "x": [
          0.4101100227061103
         ],
         "y": [
          0.5
         ]
        },
        {
         "hovertemplate": "Jo",
         "marker": {
          "size": 16
         },
         "mode": "markers",
         "name": "",
         "showlegend": false,
         "type": "scatter",
         "x": [
          1.8675548287086685
         ],
         "y": [
          0.5
         ]
        },
        {
         "hovertemplate": "Jo",
         "marker": {
          "size": 16
         },
         "mode": "markers",
         "name": "",
         "showlegend": false,
         "type": "scatter",
         "x": [
          2.039211584627449
         ],
         "y": [
          0.5
         ]
        },
        {
         "hovertemplate": "Es",
         "marker": {
          "size": 16
         },
         "mode": "markers",
         "name": "",
         "showlegend": false,
         "type": "scatter",
         "x": [
          1.096153623282519
         ],
         "y": [
          0.5
         ]
        },
        {
         "hovertemplate": "An",
         "marker": {
          "size": 16
         },
         "mode": "markers",
         "name": "",
         "showlegend": false,
         "type": "scatter",
         "x": [
          0.3855293363530641
         ],
         "y": [
          0.5
         ]
        },
        {
         "hovertemplate": "Cl",
         "marker": {
          "size": 16
         },
         "mode": "markers",
         "name": "",
         "showlegend": false,
         "type": "scatter",
         "x": [
          -2.62751316238944
         ],
         "y": [
          0.5
         ]
        },
        {
         "hovertemplate": "Sa",
         "marker": {
          "size": 16
         },
         "mode": "markers",
         "name": "",
         "showlegend": false,
         "type": "scatter",
         "x": [
          -0.5978835274121423
         ],
         "y": [
          0.5
         ]
        },
        {
         "hovertemplate": "Da",
         "marker": {
          "size": 16
         },
         "mode": "markers",
         "name": "",
         "showlegend": false,
         "type": "scatter",
         "x": [
          2.409013442290433
         ],
         "y": [
          0.5
         ]
        },
        {
         "hovertemplate": "Cl",
         "marker": {
          "size": 16
         },
         "mode": "markers",
         "name": "",
         "showlegend": false,
         "type": "scatter",
         "x": [
          1.5019492439938928
         ],
         "y": [
          0.5
         ]
        },
        {
         "hovertemplate": "Pa",
         "marker": {
          "size": 16
         },
         "mode": "markers",
         "name": "",
         "showlegend": false,
         "type": "scatter",
         "x": [
          2.654001706055164
         ],
         "y": [
          0.5
         ]
        },
        {
         "hovertemplate": "Di",
         "marker": {
          "size": 16
         },
         "mode": "markers",
         "name": "",
         "showlegend": false,
         "type": "scatter",
         "x": [
          -4.237257728441941
         ],
         "y": [
          0.5
         ]
        },
        {
         "hovertemplate": "Je",
         "marker": {
          "size": 16
         },
         "mode": "markers",
         "name": "",
         "showlegend": false,
         "type": "scatter",
         "x": [
          -2.369984137509787
         ],
         "y": [
          0.5
         ]
        },
        {
         "hovertemplate": "Ta",
         "marker": {
          "size": 16
         },
         "mode": "markers",
         "name": "",
         "showlegend": false,
         "type": "scatter",
         "x": [
          1.454773093994604
         ],
         "y": [
          0.5
         ]
        },
        {
         "hovertemplate": "Se",
         "marker": {
          "size": 16
         },
         "mode": "markers",
         "name": "",
         "showlegend": false,
         "type": "scatter",
         "x": [
          1.0019015836011191
         ],
         "y": [
          0.5
         ]
        },
        {
         "hovertemplate": "Jo",
         "marker": {
          "size": 16
         },
         "mode": "markers",
         "name": "",
         "showlegend": false,
         "type": "scatter",
         "x": [
          1.258388621496056
         ],
         "y": [
          0.5
         ]
        },
        {
         "hovertemplate": "Ce",
         "marker": {
          "size": 16
         },
         "mode": "markers",
         "name": "",
         "showlegend": false,
         "type": "scatter",
         "x": [
          2.0126105443164763
         ],
         "y": [
          0.5
         ]
        },
        {
         "hovertemplate": "Mi",
         "marker": {
          "size": 16
         },
         "mode": "markers",
         "name": "",
         "showlegend": false,
         "type": "scatter",
         "x": [
          -0.11666427154816628
         ],
         "y": [
          0.5
         ]
        },
        {
         "hovertemplate": "No",
         "marker": {
          "size": 16
         },
         "mode": "markers",
         "name": "",
         "showlegend": false,
         "type": "scatter",
         "x": [
          -4.191929019099501
         ],
         "y": [
          0.5
         ]
        },
        {
         "hovertemplate": "Be",
         "marker": {
          "size": 16
         },
         "mode": "markers",
         "name": "",
         "showlegend": false,
         "type": "scatter",
         "x": [
          1.1240185274170962
         ],
         "y": [
          0.5
         ]
        },
        {
         "hovertemplate": "Sa",
         "marker": {
          "size": 16
         },
         "mode": "markers",
         "name": "",
         "showlegend": false,
         "type": "scatter",
         "x": [
          0.2944013479582903
         ],
         "y": [
          0.5
         ]
        },
        {
         "hovertemplate": "Ol",
         "marker": {
          "size": 16
         },
         "mode": "markers",
         "name": "",
         "showlegend": false,
         "type": "scatter",
         "x": [
          0.7995901926451348
         ],
         "y": [
          0.5
         ]
        },
        {
         "hovertemplate": "Da",
         "marker": {
          "size": 16
         },
         "mode": "markers",
         "name": "",
         "showlegend": false,
         "type": "scatter",
         "x": [
          -0.4921544966041993
         ],
         "y": [
          0.5
         ]
        },
        {
         "hovertemplate": "Al",
         "marker": {
          "size": 16
         },
         "mode": "markers",
         "name": "",
         "showlegend": false,
         "type": "scatter",
         "x": [
          -0.9140690390536066
         ],
         "y": [
          0.5
         ]
        },
        {
         "hovertemplate": "Mi",
         "marker": {
          "size": 16
         },
         "mode": "markers",
         "name": "",
         "showlegend": false,
         "type": "scatter",
         "x": [
          -0.1303375083338798
         ],
         "y": [
          0.5
         ]
        }
       ],
       "layout": {
        "annotations": [
         {
          "font": {
           "size": 18
          },
          "showarrow": false,
          "text": "El",
          "textangle": 90,
          "x": -6.02356001197239,
          "y": 0.5,
          "yshift": 60
         },
         {
          "font": {
           "size": 18
          },
          "showarrow": false,
          "text": "Be",
          "textangle": 90,
          "x": 2.3921261285217406,
          "y": 0.5,
          "yshift": 60
         },
         {
          "font": {
           "size": 18
          },
          "showarrow": false,
          "text": "Ju",
          "textangle": 90,
          "x": -0.7775901124685829,
          "y": 0.5,
          "yshift": 60
         },
         {
          "font": {
           "size": 18
          },
          "showarrow": false,
          "text": "Wa",
          "textangle": 90,
          "x": -0.2223908131341794,
          "y": 0.5,
          "yshift": 60
         },
         {
          "font": {
           "size": 18
          },
          "showarrow": false,
          "text": "Ka",
          "textangle": 90,
          "x": 0.4101100227061103,
          "y": 0.5,
          "yshift": 60
         },
         {
          "font": {
           "size": 18
          },
          "showarrow": false,
          "text": "Jo",
          "textangle": 90,
          "x": 1.8675548287086685,
          "y": 0.5,
          "yshift": 60
         },
         {
          "font": {
           "size": 18
          },
          "showarrow": false,
          "text": "Jo",
          "textangle": 90,
          "x": 2.039211584627449,
          "y": 0.5,
          "yshift": 60
         },
         {
          "font": {
           "size": 18
          },
          "showarrow": false,
          "text": "Es",
          "textangle": 90,
          "x": 1.096153623282519,
          "y": 0.5,
          "yshift": 60
         },
         {
          "font": {
           "size": 18
          },
          "showarrow": false,
          "text": "An",
          "textangle": 90,
          "x": 0.3855293363530641,
          "y": 0.5,
          "yshift": 60
         },
         {
          "font": {
           "size": 18
          },
          "showarrow": false,
          "text": "Cl",
          "textangle": 90,
          "x": -2.62751316238944,
          "y": 0.5,
          "yshift": 60
         },
         {
          "font": {
           "size": 18
          },
          "showarrow": false,
          "text": "Sa",
          "textangle": 90,
          "x": -0.5978835274121423,
          "y": 0.5,
          "yshift": 60
         },
         {
          "font": {
           "size": 18
          },
          "showarrow": false,
          "text": "Da",
          "textangle": 90,
          "x": 2.409013442290433,
          "y": 0.5,
          "yshift": 60
         },
         {
          "font": {
           "size": 18
          },
          "showarrow": false,
          "text": "Cl",
          "textangle": 90,
          "x": 1.5019492439938928,
          "y": 0.5,
          "yshift": 60
         },
         {
          "font": {
           "size": 18
          },
          "showarrow": false,
          "text": "Pa",
          "textangle": 90,
          "x": 2.654001706055164,
          "y": 0.5,
          "yshift": 60
         },
         {
          "font": {
           "size": 18
          },
          "showarrow": false,
          "text": "Di",
          "textangle": 90,
          "x": -4.237257728441941,
          "y": 0.5,
          "yshift": 60
         },
         {
          "font": {
           "size": 18
          },
          "showarrow": false,
          "text": "Je",
          "textangle": 90,
          "x": -2.369984137509787,
          "y": 0.5,
          "yshift": 60
         },
         {
          "font": {
           "size": 18
          },
          "showarrow": false,
          "text": "Ta",
          "textangle": 90,
          "x": 1.454773093994604,
          "y": 0.5,
          "yshift": 60
         },
         {
          "font": {
           "size": 18
          },
          "showarrow": false,
          "text": "Se",
          "textangle": 90,
          "x": 1.0019015836011191,
          "y": 0.5,
          "yshift": 60
         },
         {
          "font": {
           "size": 18
          },
          "showarrow": false,
          "text": "Jo",
          "textangle": 90,
          "x": 1.258388621496056,
          "y": 0.5,
          "yshift": 60
         },
         {
          "font": {
           "size": 18
          },
          "showarrow": false,
          "text": "Ce",
          "textangle": 90,
          "x": 2.0126105443164763,
          "y": 0.5,
          "yshift": 60
         },
         {
          "font": {
           "size": 18
          },
          "showarrow": false,
          "text": "Mi",
          "textangle": 90,
          "x": -0.11666427154816628,
          "y": 0.5,
          "yshift": 60
         },
         {
          "font": {
           "size": 18
          },
          "showarrow": false,
          "text": "No",
          "textangle": 90,
          "x": -4.191929019099501,
          "y": 0.5,
          "yshift": 60
         },
         {
          "font": {
           "size": 18
          },
          "showarrow": false,
          "text": "Be",
          "textangle": 90,
          "x": 1.1240185274170962,
          "y": 0.5,
          "yshift": 60
         },
         {
          "font": {
           "size": 18
          },
          "showarrow": false,
          "text": "Sa",
          "textangle": 90,
          "x": 0.2944013479582903,
          "y": 0.5,
          "yshift": 60
         },
         {
          "font": {
           "size": 18
          },
          "showarrow": false,
          "text": "Ol",
          "textangle": 90,
          "x": 0.7995901926451348,
          "y": 0.5,
          "yshift": 60
         },
         {
          "font": {
           "size": 18
          },
          "showarrow": false,
          "text": "Da",
          "textangle": 90,
          "x": -0.4921544966041993,
          "y": 0.5,
          "yshift": 60
         },
         {
          "font": {
           "size": 18
          },
          "showarrow": false,
          "text": "Al",
          "textangle": 90,
          "x": -0.9140690390536066,
          "y": 0.5,
          "yshift": 60
         },
         {
          "font": {
           "size": 18
          },
          "showarrow": false,
          "text": "Mi",
          "textangle": 90,
          "x": -0.1303375083338798,
          "y": 0.5,
          "yshift": 60
         }
        ],
        "autosize": true,
        "hoverlabel": {
         "bgcolor": "white",
         "font": {
          "size": 18
         }
        },
        "plot_bgcolor": "white",
        "template": {
         "data": {
          "bar": [
           {
            "error_x": {
             "color": "#2a3f5f"
            },
            "error_y": {
             "color": "#2a3f5f"
            },
            "marker": {
             "line": {
              "color": "#E5ECF6",
              "width": 0.5
             },
             "pattern": {
              "fillmode": "overlay",
              "size": 10,
              "solidity": 0.2
             }
            },
            "type": "bar"
           }
          ],
          "barpolar": [
           {
            "marker": {
             "line": {
              "color": "#E5ECF6",
              "width": 0.5
             },
             "pattern": {
              "fillmode": "overlay",
              "size": 10,
              "solidity": 0.2
             }
            },
            "type": "barpolar"
           }
          ],
          "carpet": [
           {
            "aaxis": {
             "endlinecolor": "#2a3f5f",
             "gridcolor": "white",
             "linecolor": "white",
             "minorgridcolor": "white",
             "startlinecolor": "#2a3f5f"
            },
            "baxis": {
             "endlinecolor": "#2a3f5f",
             "gridcolor": "white",
             "linecolor": "white",
             "minorgridcolor": "white",
             "startlinecolor": "#2a3f5f"
            },
            "type": "carpet"
           }
          ],
          "choropleth": [
           {
            "colorbar": {
             "outlinewidth": 0,
             "ticks": ""
            },
            "type": "choropleth"
           }
          ],
          "contour": [
           {
            "colorbar": {
             "outlinewidth": 0,
             "ticks": ""
            },
            "colorscale": [
             [
              0,
              "#0d0887"
             ],
             [
              0.1111111111111111,
              "#46039f"
             ],
             [
              0.2222222222222222,
              "#7201a8"
             ],
             [
              0.3333333333333333,
              "#9c179e"
             ],
             [
              0.4444444444444444,
              "#bd3786"
             ],
             [
              0.5555555555555556,
              "#d8576b"
             ],
             [
              0.6666666666666666,
              "#ed7953"
             ],
             [
              0.7777777777777778,
              "#fb9f3a"
             ],
             [
              0.8888888888888888,
              "#fdca26"
             ],
             [
              1,
              "#f0f921"
             ]
            ],
            "type": "contour"
           }
          ],
          "contourcarpet": [
           {
            "colorbar": {
             "outlinewidth": 0,
             "ticks": ""
            },
            "type": "contourcarpet"
           }
          ],
          "heatmap": [
           {
            "colorbar": {
             "outlinewidth": 0,
             "ticks": ""
            },
            "colorscale": [
             [
              0,
              "#0d0887"
             ],
             [
              0.1111111111111111,
              "#46039f"
             ],
             [
              0.2222222222222222,
              "#7201a8"
             ],
             [
              0.3333333333333333,
              "#9c179e"
             ],
             [
              0.4444444444444444,
              "#bd3786"
             ],
             [
              0.5555555555555556,
              "#d8576b"
             ],
             [
              0.6666666666666666,
              "#ed7953"
             ],
             [
              0.7777777777777778,
              "#fb9f3a"
             ],
             [
              0.8888888888888888,
              "#fdca26"
             ],
             [
              1,
              "#f0f921"
             ]
            ],
            "type": "heatmap"
           }
          ],
          "heatmapgl": [
           {
            "colorbar": {
             "outlinewidth": 0,
             "ticks": ""
            },
            "colorscale": [
             [
              0,
              "#0d0887"
             ],
             [
              0.1111111111111111,
              "#46039f"
             ],
             [
              0.2222222222222222,
              "#7201a8"
             ],
             [
              0.3333333333333333,
              "#9c179e"
             ],
             [
              0.4444444444444444,
              "#bd3786"
             ],
             [
              0.5555555555555556,
              "#d8576b"
             ],
             [
              0.6666666666666666,
              "#ed7953"
             ],
             [
              0.7777777777777778,
              "#fb9f3a"
             ],
             [
              0.8888888888888888,
              "#fdca26"
             ],
             [
              1,
              "#f0f921"
             ]
            ],
            "type": "heatmapgl"
           }
          ],
          "histogram": [
           {
            "marker": {
             "pattern": {
              "fillmode": "overlay",
              "size": 10,
              "solidity": 0.2
             }
            },
            "type": "histogram"
           }
          ],
          "histogram2d": [
           {
            "colorbar": {
             "outlinewidth": 0,
             "ticks": ""
            },
            "colorscale": [
             [
              0,
              "#0d0887"
             ],
             [
              0.1111111111111111,
              "#46039f"
             ],
             [
              0.2222222222222222,
              "#7201a8"
             ],
             [
              0.3333333333333333,
              "#9c179e"
             ],
             [
              0.4444444444444444,
              "#bd3786"
             ],
             [
              0.5555555555555556,
              "#d8576b"
             ],
             [
              0.6666666666666666,
              "#ed7953"
             ],
             [
              0.7777777777777778,
              "#fb9f3a"
             ],
             [
              0.8888888888888888,
              "#fdca26"
             ],
             [
              1,
              "#f0f921"
             ]
            ],
            "type": "histogram2d"
           }
          ],
          "histogram2dcontour": [
           {
            "colorbar": {
             "outlinewidth": 0,
             "ticks": ""
            },
            "colorscale": [
             [
              0,
              "#0d0887"
             ],
             [
              0.1111111111111111,
              "#46039f"
             ],
             [
              0.2222222222222222,
              "#7201a8"
             ],
             [
              0.3333333333333333,
              "#9c179e"
             ],
             [
              0.4444444444444444,
              "#bd3786"
             ],
             [
              0.5555555555555556,
              "#d8576b"
             ],
             [
              0.6666666666666666,
              "#ed7953"
             ],
             [
              0.7777777777777778,
              "#fb9f3a"
             ],
             [
              0.8888888888888888,
              "#fdca26"
             ],
             [
              1,
              "#f0f921"
             ]
            ],
            "type": "histogram2dcontour"
           }
          ],
          "mesh3d": [
           {
            "colorbar": {
             "outlinewidth": 0,
             "ticks": ""
            },
            "type": "mesh3d"
           }
          ],
          "parcoords": [
           {
            "line": {
             "colorbar": {
              "outlinewidth": 0,
              "ticks": ""
             }
            },
            "type": "parcoords"
           }
          ],
          "pie": [
           {
            "automargin": true,
            "type": "pie"
           }
          ],
          "scatter": [
           {
            "fillpattern": {
             "fillmode": "overlay",
             "size": 10,
             "solidity": 0.2
            },
            "type": "scatter"
           }
          ],
          "scatter3d": [
           {
            "line": {
             "colorbar": {
              "outlinewidth": 0,
              "ticks": ""
             }
            },
            "marker": {
             "colorbar": {
              "outlinewidth": 0,
              "ticks": ""
             }
            },
            "type": "scatter3d"
           }
          ],
          "scattercarpet": [
           {
            "marker": {
             "colorbar": {
              "outlinewidth": 0,
              "ticks": ""
             }
            },
            "type": "scattercarpet"
           }
          ],
          "scattergeo": [
           {
            "marker": {
             "colorbar": {
              "outlinewidth": 0,
              "ticks": ""
             }
            },
            "type": "scattergeo"
           }
          ],
          "scattergl": [
           {
            "marker": {
             "colorbar": {
              "outlinewidth": 0,
              "ticks": ""
             }
            },
            "type": "scattergl"
           }
          ],
          "scattermapbox": [
           {
            "marker": {
             "colorbar": {
              "outlinewidth": 0,
              "ticks": ""
             }
            },
            "type": "scattermapbox"
           }
          ],
          "scatterpolar": [
           {
            "marker": {
             "colorbar": {
              "outlinewidth": 0,
              "ticks": ""
             }
            },
            "type": "scatterpolar"
           }
          ],
          "scatterpolargl": [
           {
            "marker": {
             "colorbar": {
              "outlinewidth": 0,
              "ticks": ""
             }
            },
            "type": "scatterpolargl"
           }
          ],
          "scatterternary": [
           {
            "marker": {
             "colorbar": {
              "outlinewidth": 0,
              "ticks": ""
             }
            },
            "type": "scatterternary"
           }
          ],
          "surface": [
           {
            "colorbar": {
             "outlinewidth": 0,
             "ticks": ""
            },
            "colorscale": [
             [
              0,
              "#0d0887"
             ],
             [
              0.1111111111111111,
              "#46039f"
             ],
             [
              0.2222222222222222,
              "#7201a8"
             ],
             [
              0.3333333333333333,
              "#9c179e"
             ],
             [
              0.4444444444444444,
              "#bd3786"
             ],
             [
              0.5555555555555556,
              "#d8576b"
             ],
             [
              0.6666666666666666,
              "#ed7953"
             ],
             [
              0.7777777777777778,
              "#fb9f3a"
             ],
             [
              0.8888888888888888,
              "#fdca26"
             ],
             [
              1,
              "#f0f921"
             ]
            ],
            "type": "surface"
           }
          ],
          "table": [
           {
            "cells": {
             "fill": {
              "color": "#EBF0F8"
             },
             "line": {
              "color": "white"
             }
            },
            "header": {
             "fill": {
              "color": "#C8D4E3"
             },
             "line": {
              "color": "white"
             }
            },
            "type": "table"
           }
          ]
         },
         "layout": {
          "annotationdefaults": {
           "arrowcolor": "#2a3f5f",
           "arrowhead": 0,
           "arrowwidth": 1
          },
          "autotypenumbers": "strict",
          "coloraxis": {
           "colorbar": {
            "outlinewidth": 0,
            "ticks": ""
           }
          },
          "colorscale": {
           "diverging": [
            [
             0,
             "#8e0152"
            ],
            [
             0.1,
             "#c51b7d"
            ],
            [
             0.2,
             "#de77ae"
            ],
            [
             0.3,
             "#f1b6da"
            ],
            [
             0.4,
             "#fde0ef"
            ],
            [
             0.5,
             "#f7f7f7"
            ],
            [
             0.6,
             "#e6f5d0"
            ],
            [
             0.7,
             "#b8e186"
            ],
            [
             0.8,
             "#7fbc41"
            ],
            [
             0.9,
             "#4d9221"
            ],
            [
             1,
             "#276419"
            ]
           ],
           "sequential": [
            [
             0,
             "#0d0887"
            ],
            [
             0.1111111111111111,
             "#46039f"
            ],
            [
             0.2222222222222222,
             "#7201a8"
            ],
            [
             0.3333333333333333,
             "#9c179e"
            ],
            [
             0.4444444444444444,
             "#bd3786"
            ],
            [
             0.5555555555555556,
             "#d8576b"
            ],
            [
             0.6666666666666666,
             "#ed7953"
            ],
            [
             0.7777777777777778,
             "#fb9f3a"
            ],
            [
             0.8888888888888888,
             "#fdca26"
            ],
            [
             1,
             "#f0f921"
            ]
           ],
           "sequentialminus": [
            [
             0,
             "#0d0887"
            ],
            [
             0.1111111111111111,
             "#46039f"
            ],
            [
             0.2222222222222222,
             "#7201a8"
            ],
            [
             0.3333333333333333,
             "#9c179e"
            ],
            [
             0.4444444444444444,
             "#bd3786"
            ],
            [
             0.5555555555555556,
             "#d8576b"
            ],
            [
             0.6666666666666666,
             "#ed7953"
            ],
            [
             0.7777777777777778,
             "#fb9f3a"
            ],
            [
             0.8888888888888888,
             "#fdca26"
            ],
            [
             1,
             "#f0f921"
            ]
           ]
          },
          "colorway": [
           "#636efa",
           "#EF553B",
           "#00cc96",
           "#ab63fa",
           "#FFA15A",
           "#19d3f3",
           "#FF6692",
           "#B6E880",
           "#FF97FF",
           "#FECB52"
          ],
          "font": {
           "color": "#2a3f5f"
          },
          "geo": {
           "bgcolor": "white",
           "lakecolor": "white",
           "landcolor": "#E5ECF6",
           "showlakes": true,
           "showland": true,
           "subunitcolor": "white"
          },
          "hoverlabel": {
           "align": "left"
          },
          "hovermode": "closest",
          "mapbox": {
           "style": "light"
          },
          "paper_bgcolor": "white",
          "plot_bgcolor": "#E5ECF6",
          "polar": {
           "angularaxis": {
            "gridcolor": "white",
            "linecolor": "white",
            "ticks": ""
           },
           "bgcolor": "#E5ECF6",
           "radialaxis": {
            "gridcolor": "white",
            "linecolor": "white",
            "ticks": ""
           }
          },
          "scene": {
           "xaxis": {
            "backgroundcolor": "#E5ECF6",
            "gridcolor": "white",
            "gridwidth": 2,
            "linecolor": "white",
            "showbackground": true,
            "ticks": "",
            "zerolinecolor": "white"
           },
           "yaxis": {
            "backgroundcolor": "#E5ECF6",
            "gridcolor": "white",
            "gridwidth": 2,
            "linecolor": "white",
            "showbackground": true,
            "ticks": "",
            "zerolinecolor": "white"
           },
           "zaxis": {
            "backgroundcolor": "#E5ECF6",
            "gridcolor": "white",
            "gridwidth": 2,
            "linecolor": "white",
            "showbackground": true,
            "ticks": "",
            "zerolinecolor": "white"
           }
          },
          "shapedefaults": {
           "line": {
            "color": "#2a3f5f"
           }
          },
          "ternary": {
           "aaxis": {
            "gridcolor": "white",
            "linecolor": "white",
            "ticks": ""
           },
           "baxis": {
            "gridcolor": "white",
            "linecolor": "white",
            "ticks": ""
           },
           "bgcolor": "#E5ECF6",
           "caxis": {
            "gridcolor": "white",
            "linecolor": "white",
            "ticks": ""
           }
          },
          "title": {
           "x": 0.05
          },
          "xaxis": {
           "automargin": true,
           "gridcolor": "white",
           "linecolor": "white",
           "ticks": "",
           "title": {
            "standoff": 15
           },
           "zerolinecolor": "white",
           "zerolinewidth": 2
          },
          "yaxis": {
           "automargin": true,
           "gridcolor": "white",
           "linecolor": "white",
           "ticks": "",
           "title": {
            "standoff": 15
           },
           "zerolinecolor": "white",
           "zerolinewidth": 2
          }
         }
        },
        "xaxis": {
         "autorange": true,
         "range": [
          -6.599146921895863,
          3.2295886159786367
         ],
         "showgrid": false,
         "showline": false,
         "showticklabels": false,
         "title": {},
         "type": "linear",
         "zeroline": false
        },
        "yaxis": {
         "autorange": true,
         "range": [
          -0.5,
          1.5
         ],
         "showgrid": false,
         "showline": false,
         "showticklabels": false,
         "title": {},
         "type": "linear",
         "zeroline": false
        }
       }
      },
      "image/png": "[encoded data removed]",
      "text/html": [
       "<div>                            <div id=\"8f4a2175-c228-4710-a6b6-38ea3466ea2a\" class=\"plotly-graph-div\" style=\"height:525px; width:100%;\"></div>            <script type=\"text/javascript\">                require([\"plotly\"], function(Plotly) {                    window.PLOTLYENV=window.PLOTLYENV || {};                                    if (document.getElementById(\"8f4a2175-c228-4710-a6b6-38ea3466ea2a\")) {                    Plotly.newPlot(                        \"8f4a2175-c228-4710-a6b6-38ea3466ea2a\",                        [{\"hovertemplate\":\"El\",\"marker\":{\"size\":16},\"mode\":\"markers\",\"name\":\"\",\"showlegend\":false,\"x\":[-6.02356001197239],\"y\":[0.5],\"type\":\"scatter\"},{\"hovertemplate\":\"Be\",\"marker\":{\"size\":16},\"mode\":\"markers\",\"name\":\"\",\"showlegend\":false,\"x\":[2.3921261285217406],\"y\":[0.5],\"type\":\"scatter\"},{\"hovertemplate\":\"Ju\",\"marker\":{\"size\":16},\"mode\":\"markers\",\"name\":\"\",\"showlegend\":false,\"x\":[-0.7775901124685829],\"y\":[0.5],\"type\":\"scatter\"},{\"hovertemplate\":\"Wa\",\"marker\":{\"size\":16},\"mode\":\"markers\",\"name\":\"\",\"showlegend\":false,\"x\":[-0.2223908131341794],\"y\":[0.5],\"type\":\"scatter\"},{\"hovertemplate\":\"Ka\",\"marker\":{\"size\":16},\"mode\":\"markers\",\"name\":\"\",\"showlegend\":false,\"x\":[0.4101100227061103],\"y\":[0.5],\"type\":\"scatter\"},{\"hovertemplate\":\"Jo\",\"marker\":{\"size\":16},\"mode\":\"markers\",\"name\":\"\",\"showlegend\":false,\"x\":[1.8675548287086685],\"y\":[0.5],\"type\":\"scatter\"},{\"hovertemplate\":\"Jo\",\"marker\":{\"size\":16},\"mode\":\"markers\",\"name\":\"\",\"showlegend\":false,\"x\":[2.039211584627449],\"y\":[0.5],\"type\":\"scatter\"},{\"hovertemplate\":\"Es\",\"marker\":{\"size\":16},\"mode\":\"markers\",\"name\":\"\",\"showlegend\":false,\"x\":[1.096153623282519],\"y\":[0.5],\"type\":\"scatter\"},{\"hovertemplate\":\"An\",\"marker\":{\"size\":16},\"mode\":\"markers\",\"name\":\"\",\"showlegend\":false,\"x\":[0.3855293363530641],\"y\":[0.5],\"type\":\"scatter\"},{\"hovertemplate\":\"Cl\",\"marker\":{\"size\":16},\"mode\":\"markers\",\"name\":\"\",\"showlegend\":false,\"x\":[-2.62751316238944],\"y\":[0.5],\"type\":\"scatter\"},{\"hovertemplate\":\"Sa\",\"marker\":{\"size\":16},\"mode\":\"markers\",\"name\":\"\",\"showlegend\":false,\"x\":[-0.5978835274121423],\"y\":[0.5],\"type\":\"scatter\"},{\"hovertemplate\":\"Da\",\"marker\":{\"size\":16},\"mode\":\"markers\",\"name\":\"\",\"showlegend\":false,\"x\":[2.409013442290433],\"y\":[0.5],\"type\":\"scatter\"},{\"hovertemplate\":\"Cl\",\"marker\":{\"size\":16},\"mode\":\"markers\",\"name\":\"\",\"showlegend\":false,\"x\":[1.5019492439938928],\"y\":[0.5],\"type\":\"scatter\"},{\"hovertemplate\":\"Pa\",\"marker\":{\"size\":16},\"mode\":\"markers\",\"name\":\"\",\"showlegend\":false,\"x\":[2.654001706055164],\"y\":[0.5],\"type\":\"scatter\"},{\"hovertemplate\":\"Di\",\"marker\":{\"size\":16},\"mode\":\"markers\",\"name\":\"\",\"showlegend\":false,\"x\":[-4.237257728441941],\"y\":[0.5],\"type\":\"scatter\"},{\"hovertemplate\":\"Je\",\"marker\":{\"size\":16},\"mode\":\"markers\",\"name\":\"\",\"showlegend\":false,\"x\":[-2.369984137509787],\"y\":[0.5],\"type\":\"scatter\"},{\"hovertemplate\":\"Ta\",\"marker\":{\"size\":16},\"mode\":\"markers\",\"name\":\"\",\"showlegend\":false,\"x\":[1.454773093994604],\"y\":[0.5],\"type\":\"scatter\"},{\"hovertemplate\":\"Se\",\"marker\":{\"size\":16},\"mode\":\"markers\",\"name\":\"\",\"showlegend\":false,\"x\":[1.0019015836011191],\"y\":[0.5],\"type\":\"scatter\"},{\"hovertemplate\":\"Jo\",\"marker\":{\"size\":16},\"mode\":\"markers\",\"name\":\"\",\"showlegend\":false,\"x\":[1.258388621496056],\"y\":[0.5],\"type\":\"scatter\"},{\"hovertemplate\":\"Ce\",\"marker\":{\"size\":16},\"mode\":\"markers\",\"name\":\"\",\"showlegend\":false,\"x\":[2.0126105443164763],\"y\":[0.5],\"type\":\"scatter\"},{\"hovertemplate\":\"Mi\",\"marker\":{\"size\":16},\"mode\":\"markers\",\"name\":\"\",\"showlegend\":false,\"x\":[-0.11666427154816628],\"y\":[0.5],\"type\":\"scatter\"},{\"hovertemplate\":\"No\",\"marker\":{\"size\":16},\"mode\":\"markers\",\"name\":\"\",\"showlegend\":false,\"x\":[-4.191929019099501],\"y\":[0.5],\"type\":\"scatter\"},{\"hovertemplate\":\"Be\",\"marker\":{\"size\":16},\"mode\":\"markers\",\"name\":\"\",\"showlegend\":false,\"x\":[1.1240185274170962],\"y\":[0.5],\"type\":\"scatter\"},{\"hovertemplate\":\"Sa\",\"marker\":{\"size\":16},\"mode\":\"markers\",\"name\":\"\",\"showlegend\":false,\"x\":[0.2944013479582903],\"y\":[0.5],\"type\":\"scatter\"},{\"hovertemplate\":\"Ol\",\"marker\":{\"size\":16},\"mode\":\"markers\",\"name\":\"\",\"showlegend\":false,\"x\":[0.7995901926451348],\"y\":[0.5],\"type\":\"scatter\"},{\"hovertemplate\":\"Da\",\"marker\":{\"size\":16},\"mode\":\"markers\",\"name\":\"\",\"showlegend\":false,\"x\":[-0.4921544966041993],\"y\":[0.5],\"type\":\"scatter\"},{\"hovertemplate\":\"Al\",\"marker\":{\"size\":16},\"mode\":\"markers\",\"name\":\"\",\"showlegend\":false,\"x\":[-0.9140690390536066],\"y\":[0.5],\"type\":\"scatter\"},{\"hovertemplate\":\"Mi\",\"marker\":{\"size\":16},\"mode\":\"markers\",\"name\":\"\",\"showlegend\":false,\"x\":[-0.1303375083338798],\"y\":[0.5],\"type\":\"scatter\"}],                        {\"template\":{\"data\":{\"histogram2dcontour\":[{\"type\":\"histogram2dcontour\",\"colorbar\":{\"outlinewidth\":0,\"ticks\":\"\"},\"colorscale\":[[0.0,\"#0d0887\"],[0.1111111111111111,\"#46039f\"],[0.2222222222222222,\"#7201a8\"],[0.3333333333333333,\"#9c179e\"],[0.4444444444444444,\"#bd3786\"],[0.5555555555555556,\"#d8576b\"],[0.6666666666666666,\"#ed7953\"],[0.7777777777777778,\"#fb9f3a\"],[0.8888888888888888,\"#fdca26\"],[1.0,\"#f0f921\"]]}],\"choropleth\":[{\"type\":\"choropleth\",\"colorbar\":{\"outlinewidth\":0,\"ticks\":\"\"}}],\"histogram2d\":[{\"type\":\"histogram2d\",\"colorbar\":{\"outlinewidth\":0,\"ticks\":\"\"},\"colorscale\":[[0.0,\"#0d0887\"],[0.1111111111111111,\"#46039f\"],[0.2222222222222222,\"#7201a8\"],[0.3333333333333333,\"#9c179e\"],[0.4444444444444444,\"#bd3786\"],[0.5555555555555556,\"#d8576b\"],[0.6666666666666666,\"#ed7953\"],[0.7777777777777778,\"#fb9f3a\"],[0.8888888888888888,\"#fdca26\"],[1.0,\"#f0f921\"]]}],\"heatmap\":[{\"type\":\"heatmap\",\"colorbar\":{\"outlinewidth\":0,\"ticks\":\"\"},\"colorscale\":[[0.0,\"#0d0887\"],[0.1111111111111111,\"#46039f\"],[0.2222222222222222,\"#7201a8\"],[0.3333333333333333,\"#9c179e\"],[0.4444444444444444,\"#bd3786\"],[0.5555555555555556,\"#d8576b\"],[0.6666666666666666,\"#ed7953\"],[0.7777777777777778,\"#fb9f3a\"],[0.8888888888888888,\"#fdca26\"],[1.0,\"#f0f921\"]]}],\"heatmapgl\":[{\"type\":\"heatmapgl\",\"colorbar\":{\"outlinewidth\":0,\"ticks\":\"\"},\"colorscale\":[[0.0,\"#0d0887\"],[0.1111111111111111,\"#46039f\"],[0.2222222222222222,\"#7201a8\"],[0.3333333333333333,\"#9c179e\"],[0.4444444444444444,\"#bd3786\"],[0.5555555555555556,\"#d8576b\"],[0.6666666666666666,\"#ed7953\"],[0.7777777777777778,\"#fb9f3a\"],[0.8888888888888888,\"#fdca26\"],[1.0,\"#f0f921\"]]}],\"contourcarpet\":[{\"type\":\"contourcarpet\",\"colorbar\":{\"outlinewidth\":0,\"ticks\":\"\"}}],\"contour\":[{\"type\":\"contour\",\"colorbar\":{\"outlinewidth\":0,\"ticks\":\"\"},\"colorscale\":[[0.0,\"#0d0887\"],[0.1111111111111111,\"#46039f\"],[0.2222222222222222,\"#7201a8\"],[0.3333333333333333,\"#9c179e\"],[0.4444444444444444,\"#bd3786\"],[0.5555555555555556,\"#d8576b\"],[0.6666666666666666,\"#ed7953\"],[0.7777777777777778,\"#fb9f3a\"],[0.8888888888888888,\"#fdca26\"],[1.0,\"#f0f921\"]]}],\"surface\":[{\"type\":\"surface\",\"colorbar\":{\"outlinewidth\":0,\"ticks\":\"\"},\"colorscale\":[[0.0,\"#0d0887\"],[0.1111111111111111,\"#46039f\"],[0.2222222222222222,\"#7201a8\"],[0.3333333333333333,\"#9c179e\"],[0.4444444444444444,\"#bd3786\"],[0.5555555555555556,\"#d8576b\"],[0.6666666666666666,\"#ed7953\"],[0.7777777777777778,\"#fb9f3a\"],[0.8888888888888888,\"#fdca26\"],[1.0,\"#f0f921\"]]}],\"mesh3d\":[{\"type\":\"mesh3d\",\"colorbar\":{\"outlinewidth\":0,\"ticks\":\"\"}}],\"scatter\":[{\"fillpattern\":{\"fillmode\":\"overlay\",\"size\":10,\"solidity\":0.2},\"type\":\"scatter\"}],\"parcoords\":[{\"type\":\"parcoords\",\"line\":{\"colorbar\":{\"outlinewidth\":0,\"ticks\":\"\"}}}],\"scatterpolargl\":[{\"type\":\"scatterpolargl\",\"marker\":{\"colorbar\":{\"outlinewidth\":0,\"ticks\":\"\"}}}],\"bar\":[{\"error_x\":{\"color\":\"#2a3f5f\"},\"error_y\":{\"color\":\"#2a3f5f\"},\"marker\":{\"line\":{\"color\":\"#E5ECF6\",\"width\":0.5},\"pattern\":{\"fillmode\":\"overlay\",\"size\":10,\"solidity\":0.2}},\"type\":\"bar\"}],\"scattergeo\":[{\"type\":\"scattergeo\",\"marker\":{\"colorbar\":{\"outlinewidth\":0,\"ticks\":\"\"}}}],\"scatterpolar\":[{\"type\":\"scatterpolar\",\"marker\":{\"colorbar\":{\"outlinewidth\":0,\"ticks\":\"\"}}}],\"histogram\":[{\"marker\":{\"pattern\":{\"fillmode\":\"overlay\",\"size\":10,\"solidity\":0.2}},\"type\":\"histogram\"}],\"scattergl\":[{\"type\":\"scattergl\",\"marker\":{\"colorbar\":{\"outlinewidth\":0,\"ticks\":\"\"}}}],\"scatter3d\":[{\"type\":\"scatter3d\",\"line\":{\"colorbar\":{\"outlinewidth\":0,\"ticks\":\"\"}},\"marker\":{\"colorbar\":{\"outlinewidth\":0,\"ticks\":\"\"}}}],\"scattermapbox\":[{\"type\":\"scattermapbox\",\"marker\":{\"colorbar\":{\"outlinewidth\":0,\"ticks\":\"\"}}}],\"scatterternary\":[{\"type\":\"scatterternary\",\"marker\":{\"colorbar\":{\"outlinewidth\":0,\"ticks\":\"\"}}}],\"scattercarpet\":[{\"type\":\"scattercarpet\",\"marker\":{\"colorbar\":{\"outlinewidth\":0,\"ticks\":\"\"}}}],\"carpet\":[{\"aaxis\":{\"endlinecolor\":\"#2a3f5f\",\"gridcolor\":\"white\",\"linecolor\":\"white\",\"minorgridcolor\":\"white\",\"startlinecolor\":\"#2a3f5f\"},\"baxis\":{\"endlinecolor\":\"#2a3f5f\",\"gridcolor\":\"white\",\"linecolor\":\"white\",\"minorgridcolor\":\"white\",\"startlinecolor\":\"#2a3f5f\"},\"type\":\"carpet\"}],\"table\":[{\"cells\":{\"fill\":{\"color\":\"#EBF0F8\"},\"line\":{\"color\":\"white\"}},\"header\":{\"fill\":{\"color\":\"#C8D4E3\"},\"line\":{\"color\":\"white\"}},\"type\":\"table\"}],\"barpolar\":[{\"marker\":{\"line\":{\"color\":\"#E5ECF6\",\"width\":0.5},\"pattern\":{\"fillmode\":\"overlay\",\"size\":10,\"solidity\":0.2}},\"type\":\"barpolar\"}],\"pie\":[{\"automargin\":true,\"type\":\"pie\"}]},\"layout\":{\"autotypenumbers\":\"strict\",\"colorway\":[\"#636efa\",\"#EF553B\",\"#00cc96\",\"#ab63fa\",\"#FFA15A\",\"#19d3f3\",\"#FF6692\",\"#B6E880\",\"#FF97FF\",\"#FECB52\"],\"font\":{\"color\":\"#2a3f5f\"},\"hovermode\":\"closest\",\"hoverlabel\":{\"align\":\"left\"},\"paper_bgcolor\":\"white\",\"plot_bgcolor\":\"#E5ECF6\",\"polar\":{\"bgcolor\":\"#E5ECF6\",\"angularaxis\":{\"gridcolor\":\"white\",\"linecolor\":\"white\",\"ticks\":\"\"},\"radialaxis\":{\"gridcolor\":\"white\",\"linecolor\":\"white\",\"ticks\":\"\"}},\"ternary\":{\"bgcolor\":\"#E5ECF6\",\"aaxis\":{\"gridcolor\":\"white\",\"linecolor\":\"white\",\"ticks\":\"\"},\"baxis\":{\"gridcolor\":\"white\",\"linecolor\":\"white\",\"ticks\":\"\"},\"caxis\":{\"gridcolor\":\"white\",\"linecolor\":\"white\",\"ticks\":\"\"}},\"coloraxis\":{\"colorbar\":{\"outlinewidth\":0,\"ticks\":\"\"}},\"colorscale\":{\"sequential\":[[0.0,\"#0d0887\"],[0.1111111111111111,\"#46039f\"],[0.2222222222222222,\"#7201a8\"],[0.3333333333333333,\"#9c179e\"],[0.4444444444444444,\"#bd3786\"],[0.5555555555555556,\"#d8576b\"],[0.6666666666666666,\"#ed7953\"],[0.7777777777777778,\"#fb9f3a\"],[0.8888888888888888,\"#fdca26\"],[1.0,\"#f0f921\"]],\"sequentialminus\":[[0.0,\"#0d0887\"],[0.1111111111111111,\"#46039f\"],[0.2222222222222222,\"#7201a8\"],[0.3333333333333333,\"#9c179e\"],[0.4444444444444444,\"#bd3786\"],[0.5555555555555556,\"#d8576b\"],[0.6666666666666666,\"#ed7953\"],[0.7777777777777778,\"#fb9f3a\"],[0.8888888888888888,\"#fdca26\"],[1.0,\"#f0f921\"]],\"diverging\":[[0,\"#8e0152\"],[0.1,\"#c51b7d\"],[0.2,\"#de77ae\"],[0.3,\"#f1b6da\"],[0.4,\"#fde0ef\"],[0.5,\"#f7f7f7\"],[0.6,\"#e6f5d0\"],[0.7,\"#b8e186\"],[0.8,\"#7fbc41\"],[0.9,\"#4d9221\"],[1,\"#276419\"]]},\"xaxis\":{\"gridcolor\":\"white\",\"linecolor\":\"white\",\"ticks\":\"\",\"title\":{\"standoff\":15},\"zerolinecolor\":\"white\",\"automargin\":true,\"zerolinewidth\":2},\"yaxis\":{\"gridcolor\":\"white\",\"linecolor\":\"white\",\"ticks\":\"\",\"title\":{\"standoff\":15},\"zerolinecolor\":\"white\",\"automargin\":true,\"zerolinewidth\":2},\"scene\":{\"xaxis\":{\"backgroundcolor\":\"#E5ECF6\",\"gridcolor\":\"white\",\"linecolor\":\"white\",\"showbackground\":true,\"ticks\":\"\",\"zerolinecolor\":\"white\",\"gridwidth\":2},\"yaxis\":{\"backgroundcolor\":\"#E5ECF6\",\"gridcolor\":\"white\",\"linecolor\":\"white\",\"showbackground\":true,\"ticks\":\"\",\"zerolinecolor\":\"white\",\"gridwidth\":2},\"zaxis\":{\"backgroundcolor\":\"#E5ECF6\",\"gridcolor\":\"white\",\"linecolor\":\"white\",\"showbackground\":true,\"ticks\":\"\",\"zerolinecolor\":\"white\",\"gridwidth\":2}},\"shapedefaults\":{\"line\":{\"color\":\"#2a3f5f\"}},\"annotationdefaults\":{\"arrowcolor\":\"#2a3f5f\",\"arrowhead\":0,\"arrowwidth\":1},\"geo\":{\"bgcolor\":\"white\",\"landcolor\":\"#E5ECF6\",\"subunitcolor\":\"white\",\"showland\":true,\"showlakes\":true,\"lakecolor\":\"white\"},\"title\":{\"x\":0.05},\"mapbox\":{\"style\":\"light\"}}},\"annotations\":[{\"font\":{\"size\":18},\"showarrow\":false,\"text\":\"El\",\"textangle\":90,\"x\":-6.02356001197239,\"y\":0.5,\"yshift\":60},{\"font\":{\"size\":18},\"showarrow\":false,\"text\":\"Be\",\"textangle\":90,\"x\":2.3921261285217406,\"y\":0.5,\"yshift\":60},{\"font\":{\"size\":18},\"showarrow\":false,\"text\":\"Ju\",\"textangle\":90,\"x\":-0.7775901124685829,\"y\":0.5,\"yshift\":60},{\"font\":{\"size\":18},\"showarrow\":false,\"text\":\"Wa\",\"textangle\":90,\"x\":-0.2223908131341794,\"y\":0.5,\"yshift\":60},{\"font\":{\"size\":18},\"showarrow\":false,\"text\":\"Ka\",\"textangle\":90,\"x\":0.4101100227061103,\"y\":0.5,\"yshift\":60},{\"font\":{\"size\":18},\"showarrow\":false,\"text\":\"Jo\",\"textangle\":90,\"x\":1.8675548287086685,\"y\":0.5,\"yshift\":60},{\"font\":{\"size\":18},\"showarrow\":false,\"text\":\"Jo\",\"textangle\":90,\"x\":2.039211584627449,\"y\":0.5,\"yshift\":60},{\"font\":{\"size\":18},\"showarrow\":false,\"text\":\"Es\",\"textangle\":90,\"x\":1.096153623282519,\"y\":0.5,\"yshift\":60},{\"font\":{\"size\":18},\"showarrow\":false,\"text\":\"An\",\"textangle\":90,\"x\":0.3855293363530641,\"y\":0.5,\"yshift\":60},{\"font\":{\"size\":18},\"showarrow\":false,\"text\":\"Cl\",\"textangle\":90,\"x\":-2.62751316238944,\"y\":0.5,\"yshift\":60},{\"font\":{\"size\":18},\"showarrow\":false,\"text\":\"Sa\",\"textangle\":90,\"x\":-0.5978835274121423,\"y\":0.5,\"yshift\":60},{\"font\":{\"size\":18},\"showarrow\":false,\"text\":\"Da\",\"textangle\":90,\"x\":2.409013442290433,\"y\":0.5,\"yshift\":60},{\"font\":{\"size\":18},\"showarrow\":false,\"text\":\"Cl\",\"textangle\":90,\"x\":1.5019492439938928,\"y\":0.5,\"yshift\":60},{\"font\":{\"size\":18},\"showarrow\":false,\"text\":\"Pa\",\"textangle\":90,\"x\":2.654001706055164,\"y\":0.5,\"yshift\":60},{\"font\":{\"size\":18},\"showarrow\":false,\"text\":\"Di\",\"textangle\":90,\"x\":-4.237257728441941,\"y\":0.5,\"yshift\":60},{\"font\":{\"size\":18},\"showarrow\":false,\"text\":\"Je\",\"textangle\":90,\"x\":-2.369984137509787,\"y\":0.5,\"yshift\":60},{\"font\":{\"size\":18},\"showarrow\":false,\"text\":\"Ta\",\"textangle\":90,\"x\":1.454773093994604,\"y\":0.5,\"yshift\":60},{\"font\":{\"size\":18},\"showarrow\":false,\"text\":\"Se\",\"textangle\":90,\"x\":1.0019015836011191,\"y\":0.5,\"yshift\":60},{\"font\":{\"size\":18},\"showarrow\":false,\"text\":\"Jo\",\"textangle\":90,\"x\":1.258388621496056,\"y\":0.5,\"yshift\":60},{\"font\":{\"size\":18},\"showarrow\":false,\"text\":\"Ce\",\"textangle\":90,\"x\":2.0126105443164763,\"y\":0.5,\"yshift\":60},{\"font\":{\"size\":18},\"showarrow\":false,\"text\":\"Mi\",\"textangle\":90,\"x\":-0.11666427154816628,\"y\":0.5,\"yshift\":60},{\"font\":{\"size\":18},\"showarrow\":false,\"text\":\"No\",\"textangle\":90,\"x\":-4.191929019099501,\"y\":0.5,\"yshift\":60},{\"font\":{\"size\":18},\"showarrow\":false,\"text\":\"Be\",\"textangle\":90,\"x\":1.1240185274170962,\"y\":0.5,\"yshift\":60},{\"font\":{\"size\":18},\"showarrow\":false,\"text\":\"Sa\",\"textangle\":90,\"x\":0.2944013479582903,\"y\":0.5,\"yshift\":60},{\"font\":{\"size\":18},\"showarrow\":false,\"text\":\"Ol\",\"textangle\":90,\"x\":0.7995901926451348,\"y\":0.5,\"yshift\":60},{\"font\":{\"size\":18},\"showarrow\":false,\"text\":\"Da\",\"textangle\":90,\"x\":-0.4921544966041993,\"y\":0.5,\"yshift\":60},{\"font\":{\"size\":18},\"showarrow\":false,\"text\":\"Al\",\"textangle\":90,\"x\":-0.9140690390536066,\"y\":0.5,\"yshift\":60},{\"font\":{\"size\":18},\"showarrow\":false,\"text\":\"Mi\",\"textangle\":90,\"x\":-0.1303375083338798,\"y\":0.5,\"yshift\":60}],\"xaxis\":{\"showticklabels\":false,\"showgrid\":false,\"zeroline\":false,\"showline\":false,\"title\":{}},\"yaxis\":{\"showticklabels\":false,\"showgrid\":false,\"zeroline\":false,\"showline\":false,\"title\":{}},\"hoverlabel\":{\"font\":{\"size\":18},\"bgcolor\":\"white\"},\"plot_bgcolor\":\"white\"},                        {\"responsive\": true}                    ).then(function(){\n",
       "                            \n",
       "var gd = document.getElementById('8f4a2175-c228-4710-a6b6-38ea3466ea2a');\n",
       "var x = new MutationObserver(function (mutations, observer) {{\n",
       "        var display = window.getComputedStyle(gd).display;\n",
       "        if (!display || display === 'none') {{\n",
       "            console.log([gd, 'removed!']);\n",
       "            Plotly.purge(gd);\n",
       "            observer.disconnect();\n",
       "        }}\n",
       "}});\n",
       "\n",
       "// Listen for the removal of the full notebook cells\n",
       "var notebookContainer = gd.closest('#notebook-container');\n",
       "if (notebookContainer) {{\n",
       "    x.observe(notebookContainer, {childList: true});\n",
       "}}\n",
       "\n",
       "// Listen for the clearing of the current output cell\n",
       "var outputEl = gd.closest('.output');\n",
       "if (outputEl) {{\n",
       "    x.observe(outputEl, {childList: true});\n",
       "}}\n",
       "\n",
       "                        })                };                });            </script>        </div>"
      ]
     },
     "metadata": {},
     "output_type": "display_data"
    }
   ],
   "source": [
    "def plot_1d_pca(res_df, full_df):\n",
    "    # Perform PCA\n",
    "    data = res_df.drop(['first_inits'], axis='columns')\n",
    "    pca = PCA(n_components=1)\n",
    "    fit_pca = pca.fit(data)\n",
    "    reduced = fit_pca.transform(data)\n",
    " \n",
    "    y_vals = np.full(reduced.shape, 0.5)    \n",
    "    fig = go.Figure()\n",
    "    \n",
    "    for idx, row in full_df.iterrows():\n",
    "        name = row['first_inits']\n",
    "        fig.add_trace(\n",
    "            go.Scatter(name = '', # for hover formatting\n",
    "                y=[y_vals[idx][0]],\n",
    "                x=[reduced[idx][0]],\n",
    "                mode='markers',\n",
    "                showlegend=False,\n",
    "                marker=dict(size=16),\n",
    "                hovertemplate=f'{name}'))\n",
    "        \n",
    "        fig.add_annotation(\n",
    "            x=reduced[idx][0],\n",
    "            y=y_vals[idx][0],\n",
    "            text=row['first_inits'],\n",
    "            showarrow=False,\n",
    "            textangle=90,\n",
    "            yshift=60,\n",
    "            font=dict(size=18))\n",
    "    \n",
    "    fig.update_layout(\n",
    "        xaxis=dict(\n",
    "            showticklabels=False,\n",
    "            showgrid=False,\n",
    "            zeroline=False,\n",
    "            showline=False,\n",
    "            title=None),\n",
    "        yaxis=dict(\n",
    "            showticklabels=False,\n",
    "            showgrid=False,\n",
    "            zeroline=False,\n",
    "            showline=False,\n",
    "            title=None),\n",
    "        plot_bgcolor='white', \n",
    "        hoverlabel=dict(bgcolor=\"white\", font_size=18))\n",
    "    \n",
    "    fig.write_html(os.path.join(project_fldr, 'PCA_1D.html'))\n",
    "    return fig\n",
    "\n",
    "plot_1d_pca(res_df, full_df)"
   ]
  },
  {
   "cell_type": "markdown",
   "id": "d0e2241c-cdbc-46e3-be35-96aa14651c77",
   "metadata": {},
   "source": [
    "### 3D PCA"
   ]
  },
  {
   "cell_type": "code",
   "execution_count": 32,
   "id": "893146f5-f695-40d4-ad22-fb5b4b359587",
   "metadata": {},
   "outputs": [
    {
     "data": {
      "application/vnd.plotly.v1+json": {
       "config": {
        "plotlyServerURL": "https://plot.ly"
       },
       "data": [
        {
         "hovertemplate": "<b>El</b>",
         "marker": {
          "opacity": 0.8,
          "size": 10
         },
         "mode": "markers+text",
         "name": "",
         "text": [
          "El"
         ],
         "textfont": {
          "size": 12
         },
         "textposition": "top center",
         "type": "scatter3d",
         "x": [
          -6.02356001197239
         ],
         "y": [
          -0.06371406562667037
         ],
         "z": [
          -0.5724042981070276
         ]
        },
        {
         "hovertemplate": "<b>Be</b>",
         "marker": {
          "opacity": 0.8,
          "size": 10
         },
         "mode": "markers+text",
         "name": "",
         "text": [
          "Be"
         ],
         "textfont": {
          "size": 12
         },
         "textposition": "top center",
         "type": "scatter3d",
         "x": [
          2.3921261285217406
         ],
         "y": [
          0.7415006485908411
         ],
         "z": [
          2.7252512300721943
         ]
        },
        {
         "hovertemplate": "<b>Ju</b>",
         "marker": {
          "opacity": 0.8,
          "size": 10
         },
         "mode": "markers+text",
         "name": "",
         "text": [
          "Ju"
         ],
         "textfont": {
          "size": 12
         },
         "textposition": "top center",
         "type": "scatter3d",
         "x": [
          -0.7775901124685829
         ],
         "y": [
          0.8037589103223255
         ],
         "z": [
          -1.7459406179449584
         ]
        },
        {
         "hovertemplate": "<b>Wa</b>",
         "marker": {
          "opacity": 0.8,
          "size": 10
         },
         "mode": "markers+text",
         "name": "",
         "text": [
          "Wa"
         ],
         "textfont": {
          "size": 12
         },
         "textposition": "top center",
         "type": "scatter3d",
         "x": [
          -0.2223908131341794
         ],
         "y": [
          -4.089924891880482
         ],
         "z": [
          1.880290960922804
         ]
        },
        {
         "hovertemplate": "<b>Ka</b>",
         "marker": {
          "opacity": 0.8,
          "size": 10
         },
         "mode": "markers+text",
         "name": "",
         "text": [
          "Ka"
         ],
         "textfont": {
          "size": 12
         },
         "textposition": "top center",
         "type": "scatter3d",
         "x": [
          0.4101100227061103
         ],
         "y": [
          -0.7845608316990029
         ],
         "z": [
          -0.7241201142109617
         ]
        },
        {
         "hovertemplate": "<b>Jo</b>",
         "marker": {
          "opacity": 0.8,
          "size": 10
         },
         "mode": "markers+text",
         "name": "",
         "text": [
          "Jo"
         ],
         "textfont": {
          "size": 12
         },
         "textposition": "top center",
         "type": "scatter3d",
         "x": [
          1.8675548287086685
         ],
         "y": [
          4.762581205773927
         ],
         "z": [
          0.22328953919582517
         ]
        },
        {
         "hovertemplate": "<b>Jo</b>",
         "marker": {
          "opacity": 0.8,
          "size": 10
         },
         "mode": "markers+text",
         "name": "",
         "text": [
          "Jo"
         ],
         "textfont": {
          "size": 12
         },
         "textposition": "top center",
         "type": "scatter3d",
         "x": [
          2.039211584627449
         ],
         "y": [
          2.2467471750815298
         ],
         "z": [
          3.018306116057982
         ]
        },
        {
         "hovertemplate": "<b>Es</b>",
         "marker": {
          "opacity": 0.8,
          "size": 10
         },
         "mode": "markers+text",
         "name": "",
         "text": [
          "Es"
         ],
         "textfont": {
          "size": 12
         },
         "textposition": "top center",
         "type": "scatter3d",
         "x": [
          1.0961536232825182
         ],
         "y": [
          -2.3535190025683828
         ],
         "z": [
          -0.7690989635516234
         ]
        },
        {
         "hovertemplate": "<b>An</b>",
         "marker": {
          "opacity": 0.8,
          "size": 10
         },
         "mode": "markers+text",
         "name": "",
         "text": [
          "An"
         ],
         "textfont": {
          "size": 12
         },
         "textposition": "top center",
         "type": "scatter3d",
         "x": [
          0.3855293363530641
         ],
         "y": [
          -1.9643327032340658
         ],
         "z": [
          1.8040187860623522
         ]
        },
        {
         "hovertemplate": "<b>Cl</b>",
         "marker": {
          "opacity": 0.8,
          "size": 10
         },
         "mode": "markers+text",
         "name": "",
         "text": [
          "Cl"
         ],
         "textfont": {
          "size": 12
         },
         "textposition": "top center",
         "type": "scatter3d",
         "x": [
          -2.6275131623894405
         ],
         "y": [
          -2.3228655600441903
         ],
         "z": [
          -0.25616462189758327
         ]
        },
        {
         "hovertemplate": "<b>Sa</b>",
         "marker": {
          "opacity": 0.8,
          "size": 10
         },
         "mode": "markers+text",
         "name": "",
         "text": [
          "Sa"
         ],
         "textfont": {
          "size": 12
         },
         "textposition": "top center",
         "type": "scatter3d",
         "x": [
          -0.5978835274121423
         ],
         "y": [
          -1.7942905347795972
         ],
         "z": [
          1.398913414836156
         ]
        },
        {
         "hovertemplate": "<b>Da</b>",
         "marker": {
          "opacity": 0.8,
          "size": 10
         },
         "mode": "markers+text",
         "name": "",
         "text": [
          "Da"
         ],
         "textfont": {
          "size": 12
         },
         "textposition": "top center",
         "type": "scatter3d",
         "x": [
          2.409013442290433
         ],
         "y": [
          0.9789837037742877
         ],
         "z": [
          0.009011847568784148
         ]
        },
        {
         "hovertemplate": "<b>Cl</b>",
         "marker": {
          "opacity": 0.8,
          "size": 10
         },
         "mode": "markers+text",
         "name": "",
         "text": [
          "Cl"
         ],
         "textfont": {
          "size": 12
         },
         "textposition": "top center",
         "type": "scatter3d",
         "x": [
          1.5019492439938928
         ],
         "y": [
          -2.2944210938388063
         ],
         "z": [
          -1.2703657263253296
         ]
        },
        {
         "hovertemplate": "<b>Pa</b>",
         "marker": {
          "opacity": 0.8,
          "size": 10
         },
         "mode": "markers+text",
         "name": "",
         "text": [
          "Pa"
         ],
         "textfont": {
          "size": 12
         },
         "textposition": "top center",
         "type": "scatter3d",
         "x": [
          2.654001706055164
         ],
         "y": [
          0.5380601833765595
         ],
         "z": [
          -0.1782423402910709
         ]
        },
        {
         "hovertemplate": "<b>Di</b>",
         "marker": {
          "opacity": 0.8,
          "size": 10
         },
         "mode": "markers+text",
         "name": "",
         "text": [
          "Di"
         ],
         "textfont": {
          "size": 12
         },
         "textposition": "top center",
         "type": "scatter3d",
         "x": [
          -4.237257728441941
         ],
         "y": [
          -0.9236997454006661
         ],
         "z": [
          2.7797467704290817
         ]
        },
        {
         "hovertemplate": "<b>Je</b>",
         "marker": {
          "opacity": 0.8,
          "size": 10
         },
         "mode": "markers+text",
         "name": "",
         "text": [
          "Je"
         ],
         "textfont": {
          "size": 12
         },
         "textposition": "top center",
         "type": "scatter3d",
         "x": [
          -2.369984137509787
         ],
         "y": [
          3.5964333086512745
         ],
         "z": [
          0.9643397953344444
         ]
        },
        {
         "hovertemplate": "<b>Ta</b>",
         "marker": {
          "opacity": 0.8,
          "size": 10
         },
         "mode": "markers+text",
         "name": "",
         "text": [
          "Ta"
         ],
         "textfont": {
          "size": 12
         },
         "textposition": "top center",
         "type": "scatter3d",
         "x": [
          1.454773093994604
         ],
         "y": [
          -1.4895667178293865
         ],
         "z": [
          -0.2982882905921658
         ]
        },
        {
         "hovertemplate": "<b>Se</b>",
         "marker": {
          "opacity": 0.8,
          "size": 10
         },
         "mode": "markers+text",
         "name": "",
         "text": [
          "Se"
         ],
         "textfont": {
          "size": 12
         },
         "textposition": "top center",
         "type": "scatter3d",
         "x": [
          1.0019015836011191
         ],
         "y": [
          1.6959177404022876
         ],
         "z": [
          0.658887839124036
         ]
        },
        {
         "hovertemplate": "<b>Jo</b>",
         "marker": {
          "opacity": 0.8,
          "size": 10
         },
         "mode": "markers+text",
         "name": "",
         "text": [
          "Jo"
         ],
         "textfont": {
          "size": 12
         },
         "textposition": "top center",
         "type": "scatter3d",
         "x": [
          1.258388621496056
         ],
         "y": [
          0.19910198372936438
         ],
         "z": [
          -0.6277724844451766
         ]
        },
        {
         "hovertemplate": "<b>Ce</b>",
         "marker": {
          "opacity": 0.8,
          "size": 10
         },
         "mode": "markers+text",
         "name": "",
         "text": [
          "Ce"
         ],
         "textfont": {
          "size": 12
         },
         "textposition": "top center",
         "type": "scatter3d",
         "x": [
          2.0126105443164755
         ],
         "y": [
          -2.18680858673469
         ],
         "z": [
          -2.566885344020779
         ]
        },
        {
         "hovertemplate": "<b>Mi</b>",
         "marker": {
          "opacity": 0.8,
          "size": 10
         },
         "mode": "markers+text",
         "name": "",
         "text": [
          "Mi"
         ],
         "textfont": {
          "size": 12
         },
         "textposition": "top center",
         "type": "scatter3d",
         "x": [
          -0.11666427154816628
         ],
         "y": [
          1.2315465920197648
         ],
         "z": [
          -1.4887809737501176
         ]
        },
        {
         "hovertemplate": "<b>No</b>",
         "marker": {
          "opacity": 0.8,
          "size": 10
         },
         "mode": "markers+text",
         "name": "",
         "text": [
          "No"
         ],
         "textfont": {
          "size": 12
         },
         "textposition": "top center",
         "type": "scatter3d",
         "x": [
          -4.191929019099501
         ],
         "y": [
          2.475544284865328
         ],
         "z": [
          -1.3396906496812528
         ]
        },
        {
         "hovertemplate": "<b>Be</b>",
         "marker": {
          "opacity": 0.8,
          "size": 10
         },
         "mode": "markers+text",
         "name": "",
         "text": [
          "Be"
         ],
         "textfont": {
          "size": 12
         },
         "textposition": "top center",
         "type": "scatter3d",
         "x": [
          1.1240185274170962
         ],
         "y": [
          -0.8024526749224585
         ],
         "z": [
          -1.5938233770141013
         ]
        },
        {
         "hovertemplate": "<b>Sa</b>",
         "marker": {
          "opacity": 0.8,
          "size": 10
         },
         "mode": "markers+text",
         "name": "",
         "text": [
          "Sa"
         ],
         "textfont": {
          "size": 12
         },
         "textposition": "top center",
         "type": "scatter3d",
         "x": [
          0.2944013479582903
         ],
         "y": [
          -0.09926433886138897
         ],
         "z": [
          -0.11536370730297296
         ]
        },
        {
         "hovertemplate": "<b>Ol</b>",
         "marker": {
          "opacity": 0.8,
          "size": 10
         },
         "mode": "markers+text",
         "name": "",
         "text": [
          "Ol"
         ],
         "textfont": {
          "size": 12
         },
         "textposition": "top center",
         "type": "scatter3d",
         "x": [
          0.7995901926451348
         ],
         "y": [
          1.3134600215145045
         ],
         "z": [
          0.010561362226941817
         ]
        },
        {
         "hovertemplate": "<b>Da</b>",
         "marker": {
          "opacity": 0.8,
          "size": 10
         },
         "mode": "markers+text",
         "name": "",
         "text": [
          "Da"
         ],
         "textfont": {
          "size": 12
         },
         "textposition": "top center",
         "type": "scatter3d",
         "x": [
          -0.49215449660419885
         ],
         "y": [
          1.1195779191124255
         ],
         "z": [
          -3.857090117764171
         ]
        },
        {
         "hovertemplate": "<b>Al</b>",
         "marker": {
          "opacity": 0.8,
          "size": 10
         },
         "mode": "markers+text",
         "name": "",
         "text": [
          "Al"
         ],
         "textfont": {
          "size": 12
         },
         "textposition": "top center",
         "type": "scatter3d",
         "x": [
          -0.9140690390536066
         ],
         "y": [
          -0.42841830727590935
         ],
         "z": [
          0.4293764636725328
         ]
        },
        {
         "hovertemplate": "<b>Mi</b>",
         "marker": {
          "opacity": 0.8,
          "size": 10
         },
         "mode": "markers+text",
         "name": "",
         "text": [
          "Mi"
         ],
         "textfont": {
          "size": 12
         },
         "textposition": "top center",
         "type": "scatter3d",
         "x": [
          -0.1303375083338798
         ],
         "y": [
          -0.10537462251874041
         ],
         "z": [
          1.5020375013961633
         ]
        },
        {
         "hovertemplate": "Distance: 0.54<br>Points: Da - Pa",
         "line": {
          "color": "black",
          "width": 2
         },
         "mode": "lines",
         "showlegend": false,
         "type": "scatter3d",
         "x": [
          2.409013442290433,
          2.654001706055164
         ],
         "y": [
          0.9789837037742877,
          0.5380601833765595
         ],
         "z": [
          0.009011847568784148,
          -0.1782423402910709
         ]
        },
        {
         "hovertemplate": "Distance: 0.65<br>Points: Es - Cl",
         "line": {
          "color": "black",
          "width": 2
         },
         "mode": "lines",
         "showlegend": false,
         "type": "scatter3d",
         "x": [
          1.0961536232825182,
          1.5019492439938928
         ],
         "y": [
          -2.3535190025683828,
          -2.2944210938388063
         ],
         "z": [
          -0.7690989635516234,
          -1.2703657263253296
         ]
        },
        {
         "hovertemplate": "Distance: 0.78<br>Points: Se - Ol",
         "line": {
          "color": "black",
          "width": 2
         },
         "mode": "lines",
         "showlegend": false,
         "type": "scatter3d",
         "x": [
          1.0019015836011191,
          0.7995901926451348
         ],
         "y": [
          1.6959177404022876,
          1.3134600215145045
         ],
         "z": [
          0.658887839124036,
          0.010561362226941817
         ]
        },
        {
         "hovertemplate": "Distance: 0.83<br>Points: Ju - Mi",
         "line": {
          "color": "black",
          "width": 2
         },
         "mode": "lines",
         "showlegend": false,
         "type": "scatter3d",
         "x": [
          -0.7775901124685829,
          -0.11666427154816628
         ],
         "y": [
          0.8037589103223255,
          1.2315465920197648
         ],
         "z": [
          -1.7459406179449584,
          -1.4887809737501176
         ]
        },
        {
         "hovertemplate": "Distance: 0.92<br>Points: Ka - Sa",
         "line": {
          "color": "black",
          "width": 2
         },
         "mode": "lines",
         "showlegend": false,
         "type": "scatter3d",
         "x": [
          0.4101100227061103,
          0.2944013479582903
         ],
         "y": [
          -0.7845608316990029,
          -0.09926433886138897
         ],
         "z": [
          -0.7241201142109617,
          -0.11536370730297296
         ]
        },
        {
         "hovertemplate": "Distance: 1.05<br>Points: Es - Ta",
         "line": {
          "color": "black",
          "width": 2
         },
         "mode": "lines",
         "showlegend": false,
         "type": "scatter3d",
         "x": [
          1.0961536232825182,
          1.454773093994604
         ],
         "y": [
          -2.3535190025683828,
          -1.4895667178293865
         ],
         "z": [
          -0.7690989635516234,
          -0.2982882905921658
         ]
        },
        {
         "hovertemplate": "Distance: 1.08<br>Points: An - Sa",
         "line": {
          "color": "black",
          "width": 2
         },
         "mode": "lines",
         "showlegend": false,
         "type": "scatter3d",
         "x": [
          0.3855293363530641,
          -0.5978835274121423
         ],
         "y": [
          -1.9643327032340658,
          -1.7942905347795972
         ],
         "z": [
          1.8040187860623522,
          1.398913414836156
         ]
        },
        {
         "hovertemplate": "Distance: 1.13<br>Points: Ka - Be",
         "line": {
          "color": "black",
          "width": 2
         },
         "mode": "lines",
         "showlegend": false,
         "type": "scatter3d",
         "x": [
          0.4101100227061103,
          1.1240185274170962
         ],
         "y": [
          -0.7845608316990029,
          -0.8024526749224585
         ],
         "z": [
          -0.7241201142109617,
          -1.5938233770141013
         ]
        },
        {
         "hovertemplate": "Distance: 1.13<br>Points: Jo - Sa",
         "line": {
          "color": "black",
          "width": 2
         },
         "mode": "lines",
         "showlegend": false,
         "type": "scatter3d",
         "x": [
          1.258388621496056,
          0.2944013479582903
         ],
         "y": [
          0.19910198372936438,
          -0.09926433886138897
         ],
         "z": [
          -0.6277724844451766,
          -0.11536370730297296
         ]
        },
        {
         "hovertemplate": "Distance: 1.26<br>Points: Cl - Ta",
         "line": {
          "color": "black",
          "width": 2
         },
         "mode": "lines",
         "showlegend": false,
         "type": "scatter3d",
         "x": [
          1.5019492439938928,
          1.454773093994604
         ],
         "y": [
          -2.2944210938388063,
          -1.4895667178293865
         ],
         "z": [
          -1.2703657263253296,
          -0.2982882905921658
         ]
        }
       ],
       "layout": {
        "autosize": true,
        "scene": {
         "aspectmode": "auto",
         "aspectratio": {
          "x": 1.0735208538617087,
          "y": 1.09516362010158,
          "z": 0.8505708717964655
         },
         "xaxis": {
          "title": {
           "text": ""
          },
          "type": "linear"
         },
         "yaxis": {
          "title": {
           "text": ""
          },
          "type": "linear"
         },
         "zaxis": {
          "title": {
           "text": ""
          },
          "type": "linear"
         }
        },
        "showlegend": false,
        "template": {
         "data": {
          "bar": [
           {
            "error_x": {
             "color": "#2a3f5f"
            },
            "error_y": {
             "color": "#2a3f5f"
            },
            "marker": {
             "line": {
              "color": "#E5ECF6",
              "width": 0.5
             },
             "pattern": {
              "fillmode": "overlay",
              "size": 10,
              "solidity": 0.2
             }
            },
            "type": "bar"
           }
          ],
          "barpolar": [
           {
            "marker": {
             "line": {
              "color": "#E5ECF6",
              "width": 0.5
             },
             "pattern": {
              "fillmode": "overlay",
              "size": 10,
              "solidity": 0.2
             }
            },
            "type": "barpolar"
           }
          ],
          "carpet": [
           {
            "aaxis": {
             "endlinecolor": "#2a3f5f",
             "gridcolor": "white",
             "linecolor": "white",
             "minorgridcolor": "white",
             "startlinecolor": "#2a3f5f"
            },
            "baxis": {
             "endlinecolor": "#2a3f5f",
             "gridcolor": "white",
             "linecolor": "white",
             "minorgridcolor": "white",
             "startlinecolor": "#2a3f5f"
            },
            "type": "carpet"
           }
          ],
          "choropleth": [
           {
            "colorbar": {
             "outlinewidth": 0,
             "ticks": ""
            },
            "type": "choropleth"
           }
          ],
          "contour": [
           {
            "colorbar": {
             "outlinewidth": 0,
             "ticks": ""
            },
            "colorscale": [
             [
              0,
              "#0d0887"
             ],
             [
              0.1111111111111111,
              "#46039f"
             ],
             [
              0.2222222222222222,
              "#7201a8"
             ],
             [
              0.3333333333333333,
              "#9c179e"
             ],
             [
              0.4444444444444444,
              "#bd3786"
             ],
             [
              0.5555555555555556,
              "#d8576b"
             ],
             [
              0.6666666666666666,
              "#ed7953"
             ],
             [
              0.7777777777777778,
              "#fb9f3a"
             ],
             [
              0.8888888888888888,
              "#fdca26"
             ],
             [
              1,
              "#f0f921"
             ]
            ],
            "type": "contour"
           }
          ],
          "contourcarpet": [
           {
            "colorbar": {
             "outlinewidth": 0,
             "ticks": ""
            },
            "type": "contourcarpet"
           }
          ],
          "heatmap": [
           {
            "colorbar": {
             "outlinewidth": 0,
             "ticks": ""
            },
            "colorscale": [
             [
              0,
              "#0d0887"
             ],
             [
              0.1111111111111111,
              "#46039f"
             ],
             [
              0.2222222222222222,
              "#7201a8"
             ],
             [
              0.3333333333333333,
              "#9c179e"
             ],
             [
              0.4444444444444444,
              "#bd3786"
             ],
             [
              0.5555555555555556,
              "#d8576b"
             ],
             [
              0.6666666666666666,
              "#ed7953"
             ],
             [
              0.7777777777777778,
              "#fb9f3a"
             ],
             [
              0.8888888888888888,
              "#fdca26"
             ],
             [
              1,
              "#f0f921"
             ]
            ],
            "type": "heatmap"
           }
          ],
          "heatmapgl": [
           {
            "colorbar": {
             "outlinewidth": 0,
             "ticks": ""
            },
            "colorscale": [
             [
              0,
              "#0d0887"
             ],
             [
              0.1111111111111111,
              "#46039f"
             ],
             [
              0.2222222222222222,
              "#7201a8"
             ],
             [
              0.3333333333333333,
              "#9c179e"
             ],
             [
              0.4444444444444444,
              "#bd3786"
             ],
             [
              0.5555555555555556,
              "#d8576b"
             ],
             [
              0.6666666666666666,
              "#ed7953"
             ],
             [
              0.7777777777777778,
              "#fb9f3a"
             ],
             [
              0.8888888888888888,
              "#fdca26"
             ],
             [
              1,
              "#f0f921"
             ]
            ],
            "type": "heatmapgl"
           }
          ],
          "histogram": [
           {
            "marker": {
             "pattern": {
              "fillmode": "overlay",
              "size": 10,
              "solidity": 0.2
             }
            },
            "type": "histogram"
           }
          ],
          "histogram2d": [
           {
            "colorbar": {
             "outlinewidth": 0,
             "ticks": ""
            },
            "colorscale": [
             [
              0,
              "#0d0887"
             ],
             [
              0.1111111111111111,
              "#46039f"
             ],
             [
              0.2222222222222222,
              "#7201a8"
             ],
             [
              0.3333333333333333,
              "#9c179e"
             ],
             [
              0.4444444444444444,
              "#bd3786"
             ],
             [
              0.5555555555555556,
              "#d8576b"
             ],
             [
              0.6666666666666666,
              "#ed7953"
             ],
             [
              0.7777777777777778,
              "#fb9f3a"
             ],
             [
              0.8888888888888888,
              "#fdca26"
             ],
             [
              1,
              "#f0f921"
             ]
            ],
            "type": "histogram2d"
           }
          ],
          "histogram2dcontour": [
           {
            "colorbar": {
             "outlinewidth": 0,
             "ticks": ""
            },
            "colorscale": [
             [
              0,
              "#0d0887"
             ],
             [
              0.1111111111111111,
              "#46039f"
             ],
             [
              0.2222222222222222,
              "#7201a8"
             ],
             [
              0.3333333333333333,
              "#9c179e"
             ],
             [
              0.4444444444444444,
              "#bd3786"
             ],
             [
              0.5555555555555556,
              "#d8576b"
             ],
             [
              0.6666666666666666,
              "#ed7953"
             ],
             [
              0.7777777777777778,
              "#fb9f3a"
             ],
             [
              0.8888888888888888,
              "#fdca26"
             ],
             [
              1,
              "#f0f921"
             ]
            ],
            "type": "histogram2dcontour"
           }
          ],
          "mesh3d": [
           {
            "colorbar": {
             "outlinewidth": 0,
             "ticks": ""
            },
            "type": "mesh3d"
           }
          ],
          "parcoords": [
           {
            "line": {
             "colorbar": {
              "outlinewidth": 0,
              "ticks": ""
             }
            },
            "type": "parcoords"
           }
          ],
          "pie": [
           {
            "automargin": true,
            "type": "pie"
           }
          ],
          "scatter": [
           {
            "fillpattern": {
             "fillmode": "overlay",
             "size": 10,
             "solidity": 0.2
            },
            "type": "scatter"
           }
          ],
          "scatter3d": [
           {
            "line": {
             "colorbar": {
              "outlinewidth": 0,
              "ticks": ""
             }
            },
            "marker": {
             "colorbar": {
              "outlinewidth": 0,
              "ticks": ""
             }
            },
            "type": "scatter3d"
           }
          ],
          "scattercarpet": [
           {
            "marker": {
             "colorbar": {
              "outlinewidth": 0,
              "ticks": ""
             }
            },
            "type": "scattercarpet"
           }
          ],
          "scattergeo": [
           {
            "marker": {
             "colorbar": {
              "outlinewidth": 0,
              "ticks": ""
             }
            },
            "type": "scattergeo"
           }
          ],
          "scattergl": [
           {
            "marker": {
             "colorbar": {
              "outlinewidth": 0,
              "ticks": ""
             }
            },
            "type": "scattergl"
           }
          ],
          "scattermapbox": [
           {
            "marker": {
             "colorbar": {
              "outlinewidth": 0,
              "ticks": ""
             }
            },
            "type": "scattermapbox"
           }
          ],
          "scatterpolar": [
           {
            "marker": {
             "colorbar": {
              "outlinewidth": 0,
              "ticks": ""
             }
            },
            "type": "scatterpolar"
           }
          ],
          "scatterpolargl": [
           {
            "marker": {
             "colorbar": {
              "outlinewidth": 0,
              "ticks": ""
             }
            },
            "type": "scatterpolargl"
           }
          ],
          "scatterternary": [
           {
            "marker": {
             "colorbar": {
              "outlinewidth": 0,
              "ticks": ""
             }
            },
            "type": "scatterternary"
           }
          ],
          "surface": [
           {
            "colorbar": {
             "outlinewidth": 0,
             "ticks": ""
            },
            "colorscale": [
             [
              0,
              "#0d0887"
             ],
             [
              0.1111111111111111,
              "#46039f"
             ],
             [
              0.2222222222222222,
              "#7201a8"
             ],
             [
              0.3333333333333333,
              "#9c179e"
             ],
             [
              0.4444444444444444,
              "#bd3786"
             ],
             [
              0.5555555555555556,
              "#d8576b"
             ],
             [
              0.6666666666666666,
              "#ed7953"
             ],
             [
              0.7777777777777778,
              "#fb9f3a"
             ],
             [
              0.8888888888888888,
              "#fdca26"
             ],
             [
              1,
              "#f0f921"
             ]
            ],
            "type": "surface"
           }
          ],
          "table": [
           {
            "cells": {
             "fill": {
              "color": "#EBF0F8"
             },
             "line": {
              "color": "white"
             }
            },
            "header": {
             "fill": {
              "color": "#C8D4E3"
             },
             "line": {
              "color": "white"
             }
            },
            "type": "table"
           }
          ]
         },
         "layout": {
          "annotationdefaults": {
           "arrowcolor": "#2a3f5f",
           "arrowhead": 0,
           "arrowwidth": 1
          },
          "autotypenumbers": "strict",
          "coloraxis": {
           "colorbar": {
            "outlinewidth": 0,
            "ticks": ""
           }
          },
          "colorscale": {
           "diverging": [
            [
             0,
             "#8e0152"
            ],
            [
             0.1,
             "#c51b7d"
            ],
            [
             0.2,
             "#de77ae"
            ],
            [
             0.3,
             "#f1b6da"
            ],
            [
             0.4,
             "#fde0ef"
            ],
            [
             0.5,
             "#f7f7f7"
            ],
            [
             0.6,
             "#e6f5d0"
            ],
            [
             0.7,
             "#b8e186"
            ],
            [
             0.8,
             "#7fbc41"
            ],
            [
             0.9,
             "#4d9221"
            ],
            [
             1,
             "#276419"
            ]
           ],
           "sequential": [
            [
             0,
             "#0d0887"
            ],
            [
             0.1111111111111111,
             "#46039f"
            ],
            [
             0.2222222222222222,
             "#7201a8"
            ],
            [
             0.3333333333333333,
             "#9c179e"
            ],
            [
             0.4444444444444444,
             "#bd3786"
            ],
            [
             0.5555555555555556,
             "#d8576b"
            ],
            [
             0.6666666666666666,
             "#ed7953"
            ],
            [
             0.7777777777777778,
             "#fb9f3a"
            ],
            [
             0.8888888888888888,
             "#fdca26"
            ],
            [
             1,
             "#f0f921"
            ]
           ],
           "sequentialminus": [
            [
             0,
             "#0d0887"
            ],
            [
             0.1111111111111111,
             "#46039f"
            ],
            [
             0.2222222222222222,
             "#7201a8"
            ],
            [
             0.3333333333333333,
             "#9c179e"
            ],
            [
             0.4444444444444444,
             "#bd3786"
            ],
            [
             0.5555555555555556,
             "#d8576b"
            ],
            [
             0.6666666666666666,
             "#ed7953"
            ],
            [
             0.7777777777777778,
             "#fb9f3a"
            ],
            [
             0.8888888888888888,
             "#fdca26"
            ],
            [
             1,
             "#f0f921"
            ]
           ]
          },
          "colorway": [
           "#636efa",
           "#EF553B",
           "#00cc96",
           "#ab63fa",
           "#FFA15A",
           "#19d3f3",
           "#FF6692",
           "#B6E880",
           "#FF97FF",
           "#FECB52"
          ],
          "font": {
           "color": "#2a3f5f"
          },
          "geo": {
           "bgcolor": "white",
           "lakecolor": "white",
           "landcolor": "#E5ECF6",
           "showlakes": true,
           "showland": true,
           "subunitcolor": "white"
          },
          "hoverlabel": {
           "align": "left"
          },
          "hovermode": "closest",
          "mapbox": {
           "style": "light"
          },
          "paper_bgcolor": "white",
          "plot_bgcolor": "#E5ECF6",
          "polar": {
           "angularaxis": {
            "gridcolor": "white",
            "linecolor": "white",
            "ticks": ""
           },
           "bgcolor": "#E5ECF6",
           "radialaxis": {
            "gridcolor": "white",
            "linecolor": "white",
            "ticks": ""
           }
          },
          "scene": {
           "xaxis": {
            "backgroundcolor": "#E5ECF6",
            "gridcolor": "white",
            "gridwidth": 2,
            "linecolor": "white",
            "showbackground": true,
            "ticks": "",
            "zerolinecolor": "white"
           },
           "yaxis": {
            "backgroundcolor": "#E5ECF6",
            "gridcolor": "white",
            "gridwidth": 2,
            "linecolor": "white",
            "showbackground": true,
            "ticks": "",
            "zerolinecolor": "white"
           },
           "zaxis": {
            "backgroundcolor": "#E5ECF6",
            "gridcolor": "white",
            "gridwidth": 2,
            "linecolor": "white",
            "showbackground": true,
            "ticks": "",
            "zerolinecolor": "white"
           }
          },
          "shapedefaults": {
           "line": {
            "color": "#2a3f5f"
           }
          },
          "ternary": {
           "aaxis": {
            "gridcolor": "white",
            "linecolor": "white",
            "ticks": ""
           },
           "baxis": {
            "gridcolor": "white",
            "linecolor": "white",
            "ticks": ""
           },
           "bgcolor": "#E5ECF6",
           "caxis": {
            "gridcolor": "white",
            "linecolor": "white",
            "ticks": ""
           }
          },
          "title": {
           "x": 0.05
          },
          "xaxis": {
           "automargin": true,
           "gridcolor": "white",
           "linecolor": "white",
           "ticks": "",
           "title": {
            "standoff": 15
           },
           "zerolinecolor": "white",
           "zerolinewidth": 2
          },
          "yaxis": {
           "automargin": true,
           "gridcolor": "white",
           "linecolor": "white",
           "ticks": "",
           "title": {
            "standoff": 15
           },
           "zerolinecolor": "white",
           "zerolinewidth": 2
          }
         }
        },
        "title": {
         "text": "3D PCA"
        }
       }
      },
      "image/png": "[encoded data removed]",
      "text/html": [
       "<div>                            <div id=\"968532a9-78a5-47a0-9deb-85fdbf8b241b\" class=\"plotly-graph-div\" style=\"height:1000px; width:100%;\"></div>            <script type=\"text/javascript\">                require([\"plotly\"], function(Plotly) {                    window.PLOTLYENV=window.PLOTLYENV || {};                                    if (document.getElementById(\"968532a9-78a5-47a0-9deb-85fdbf8b241b\")) {                    Plotly.newPlot(                        \"968532a9-78a5-47a0-9deb-85fdbf8b241b\",                        [{\"hovertemplate\":\"\\u003cb\\u003eEl\\u003c\\u002fb\\u003e\",\"marker\":{\"opacity\":0.8,\"size\":10},\"mode\":\"markers+text\",\"name\":\"\",\"text\":[\"El\"],\"textfont\":{\"size\":12},\"textposition\":\"top center\",\"x\":[-6.02356001197239],\"y\":[-0.06371406562667037],\"z\":[-0.5724042981070276],\"type\":\"scatter3d\"},{\"hovertemplate\":\"\\u003cb\\u003eBe\\u003c\\u002fb\\u003e\",\"marker\":{\"opacity\":0.8,\"size\":10},\"mode\":\"markers+text\",\"name\":\"\",\"text\":[\"Be\"],\"textfont\":{\"size\":12},\"textposition\":\"top center\",\"x\":[2.3921261285217406],\"y\":[0.7415006485908411],\"z\":[2.7252512300721943],\"type\":\"scatter3d\"},{\"hovertemplate\":\"\\u003cb\\u003eJu\\u003c\\u002fb\\u003e\",\"marker\":{\"opacity\":0.8,\"size\":10},\"mode\":\"markers+text\",\"name\":\"\",\"text\":[\"Ju\"],\"textfont\":{\"size\":12},\"textposition\":\"top center\",\"x\":[-0.7775901124685829],\"y\":[0.8037589103223255],\"z\":[-1.7459406179449584],\"type\":\"scatter3d\"},{\"hovertemplate\":\"\\u003cb\\u003eWa\\u003c\\u002fb\\u003e\",\"marker\":{\"opacity\":0.8,\"size\":10},\"mode\":\"markers+text\",\"name\":\"\",\"text\":[\"Wa\"],\"textfont\":{\"size\":12},\"textposition\":\"top center\",\"x\":[-0.2223908131341794],\"y\":[-4.089924891880482],\"z\":[1.880290960922804],\"type\":\"scatter3d\"},{\"hovertemplate\":\"\\u003cb\\u003eKa\\u003c\\u002fb\\u003e\",\"marker\":{\"opacity\":0.8,\"size\":10},\"mode\":\"markers+text\",\"name\":\"\",\"text\":[\"Ka\"],\"textfont\":{\"size\":12},\"textposition\":\"top center\",\"x\":[0.4101100227061103],\"y\":[-0.7845608316990029],\"z\":[-0.7241201142109617],\"type\":\"scatter3d\"},{\"hovertemplate\":\"\\u003cb\\u003eJo\\u003c\\u002fb\\u003e\",\"marker\":{\"opacity\":0.8,\"size\":10},\"mode\":\"markers+text\",\"name\":\"\",\"text\":[\"Jo\"],\"textfont\":{\"size\":12},\"textposition\":\"top center\",\"x\":[1.8675548287086685],\"y\":[4.762581205773927],\"z\":[0.22328953919582517],\"type\":\"scatter3d\"},{\"hovertemplate\":\"\\u003cb\\u003eJo\\u003c\\u002fb\\u003e\",\"marker\":{\"opacity\":0.8,\"size\":10},\"mode\":\"markers+text\",\"name\":\"\",\"text\":[\"Jo\"],\"textfont\":{\"size\":12},\"textposition\":\"top center\",\"x\":[2.039211584627449],\"y\":[2.2467471750815298],\"z\":[3.018306116057982],\"type\":\"scatter3d\"},{\"hovertemplate\":\"\\u003cb\\u003eEs\\u003c\\u002fb\\u003e\",\"marker\":{\"opacity\":0.8,\"size\":10},\"mode\":\"markers+text\",\"name\":\"\",\"text\":[\"Es\"],\"textfont\":{\"size\":12},\"textposition\":\"top center\",\"x\":[1.0961536232825182],\"y\":[-2.3535190025683828],\"z\":[-0.7690989635516234],\"type\":\"scatter3d\"},{\"hovertemplate\":\"\\u003cb\\u003eAn\\u003c\\u002fb\\u003e\",\"marker\":{\"opacity\":0.8,\"size\":10},\"mode\":\"markers+text\",\"name\":\"\",\"text\":[\"An\"],\"textfont\":{\"size\":12},\"textposition\":\"top center\",\"x\":[0.3855293363530641],\"y\":[-1.9643327032340658],\"z\":[1.8040187860623522],\"type\":\"scatter3d\"},{\"hovertemplate\":\"\\u003cb\\u003eCl\\u003c\\u002fb\\u003e\",\"marker\":{\"opacity\":0.8,\"size\":10},\"mode\":\"markers+text\",\"name\":\"\",\"text\":[\"Cl\"],\"textfont\":{\"size\":12},\"textposition\":\"top center\",\"x\":[-2.6275131623894405],\"y\":[-2.3228655600441903],\"z\":[-0.25616462189758327],\"type\":\"scatter3d\"},{\"hovertemplate\":\"\\u003cb\\u003eSa\\u003c\\u002fb\\u003e\",\"marker\":{\"opacity\":0.8,\"size\":10},\"mode\":\"markers+text\",\"name\":\"\",\"text\":[\"Sa\"],\"textfont\":{\"size\":12},\"textposition\":\"top center\",\"x\":[-0.5978835274121423],\"y\":[-1.7942905347795972],\"z\":[1.398913414836156],\"type\":\"scatter3d\"},{\"hovertemplate\":\"\\u003cb\\u003eDa\\u003c\\u002fb\\u003e\",\"marker\":{\"opacity\":0.8,\"size\":10},\"mode\":\"markers+text\",\"name\":\"\",\"text\":[\"Da\"],\"textfont\":{\"size\":12},\"textposition\":\"top center\",\"x\":[2.409013442290433],\"y\":[0.9789837037742877],\"z\":[0.009011847568784148],\"type\":\"scatter3d\"},{\"hovertemplate\":\"\\u003cb\\u003eCl\\u003c\\u002fb\\u003e\",\"marker\":{\"opacity\":0.8,\"size\":10},\"mode\":\"markers+text\",\"name\":\"\",\"text\":[\"Cl\"],\"textfont\":{\"size\":12},\"textposition\":\"top center\",\"x\":[1.5019492439938928],\"y\":[-2.2944210938388063],\"z\":[-1.2703657263253296],\"type\":\"scatter3d\"},{\"hovertemplate\":\"\\u003cb\\u003ePa\\u003c\\u002fb\\u003e\",\"marker\":{\"opacity\":0.8,\"size\":10},\"mode\":\"markers+text\",\"name\":\"\",\"text\":[\"Pa\"],\"textfont\":{\"size\":12},\"textposition\":\"top center\",\"x\":[2.654001706055164],\"y\":[0.5380601833765595],\"z\":[-0.1782423402910709],\"type\":\"scatter3d\"},{\"hovertemplate\":\"\\u003cb\\u003eDi\\u003c\\u002fb\\u003e\",\"marker\":{\"opacity\":0.8,\"size\":10},\"mode\":\"markers+text\",\"name\":\"\",\"text\":[\"Di\"],\"textfont\":{\"size\":12},\"textposition\":\"top center\",\"x\":[-4.237257728441941],\"y\":[-0.9236997454006661],\"z\":[2.7797467704290817],\"type\":\"scatter3d\"},{\"hovertemplate\":\"\\u003cb\\u003eJe\\u003c\\u002fb\\u003e\",\"marker\":{\"opacity\":0.8,\"size\":10},\"mode\":\"markers+text\",\"name\":\"\",\"text\":[\"Je\"],\"textfont\":{\"size\":12},\"textposition\":\"top center\",\"x\":[-2.369984137509787],\"y\":[3.5964333086512745],\"z\":[0.9643397953344444],\"type\":\"scatter3d\"},{\"hovertemplate\":\"\\u003cb\\u003eTa\\u003c\\u002fb\\u003e\",\"marker\":{\"opacity\":0.8,\"size\":10},\"mode\":\"markers+text\",\"name\":\"\",\"text\":[\"Ta\"],\"textfont\":{\"size\":12},\"textposition\":\"top center\",\"x\":[1.454773093994604],\"y\":[-1.4895667178293865],\"z\":[-0.2982882905921658],\"type\":\"scatter3d\"},{\"hovertemplate\":\"\\u003cb\\u003eSe\\u003c\\u002fb\\u003e\",\"marker\":{\"opacity\":0.8,\"size\":10},\"mode\":\"markers+text\",\"name\":\"\",\"text\":[\"Se\"],\"textfont\":{\"size\":12},\"textposition\":\"top center\",\"x\":[1.0019015836011191],\"y\":[1.6959177404022876],\"z\":[0.658887839124036],\"type\":\"scatter3d\"},{\"hovertemplate\":\"\\u003cb\\u003eJo\\u003c\\u002fb\\u003e\",\"marker\":{\"opacity\":0.8,\"size\":10},\"mode\":\"markers+text\",\"name\":\"\",\"text\":[\"Jo\"],\"textfont\":{\"size\":12},\"textposition\":\"top center\",\"x\":[1.258388621496056],\"y\":[0.19910198372936438],\"z\":[-0.6277724844451766],\"type\":\"scatter3d\"},{\"hovertemplate\":\"\\u003cb\\u003eCe\\u003c\\u002fb\\u003e\",\"marker\":{\"opacity\":0.8,\"size\":10},\"mode\":\"markers+text\",\"name\":\"\",\"text\":[\"Ce\"],\"textfont\":{\"size\":12},\"textposition\":\"top center\",\"x\":[2.0126105443164755],\"y\":[-2.18680858673469],\"z\":[-2.566885344020779],\"type\":\"scatter3d\"},{\"hovertemplate\":\"\\u003cb\\u003eMi\\u003c\\u002fb\\u003e\",\"marker\":{\"opacity\":0.8,\"size\":10},\"mode\":\"markers+text\",\"name\":\"\",\"text\":[\"Mi\"],\"textfont\":{\"size\":12},\"textposition\":\"top center\",\"x\":[-0.11666427154816628],\"y\":[1.2315465920197648],\"z\":[-1.4887809737501176],\"type\":\"scatter3d\"},{\"hovertemplate\":\"\\u003cb\\u003eNo\\u003c\\u002fb\\u003e\",\"marker\":{\"opacity\":0.8,\"size\":10},\"mode\":\"markers+text\",\"name\":\"\",\"text\":[\"No\"],\"textfont\":{\"size\":12},\"textposition\":\"top center\",\"x\":[-4.191929019099501],\"y\":[2.475544284865328],\"z\":[-1.3396906496812528],\"type\":\"scatter3d\"},{\"hovertemplate\":\"\\u003cb\\u003eBe\\u003c\\u002fb\\u003e\",\"marker\":{\"opacity\":0.8,\"size\":10},\"mode\":\"markers+text\",\"name\":\"\",\"text\":[\"Be\"],\"textfont\":{\"size\":12},\"textposition\":\"top center\",\"x\":[1.1240185274170962],\"y\":[-0.8024526749224585],\"z\":[-1.5938233770141013],\"type\":\"scatter3d\"},{\"hovertemplate\":\"\\u003cb\\u003eSa\\u003c\\u002fb\\u003e\",\"marker\":{\"opacity\":0.8,\"size\":10},\"mode\":\"markers+text\",\"name\":\"\",\"text\":[\"Sa\"],\"textfont\":{\"size\":12},\"textposition\":\"top center\",\"x\":[0.2944013479582903],\"y\":[-0.09926433886138897],\"z\":[-0.11536370730297296],\"type\":\"scatter3d\"},{\"hovertemplate\":\"\\u003cb\\u003eOl\\u003c\\u002fb\\u003e\",\"marker\":{\"opacity\":0.8,\"size\":10},\"mode\":\"markers+text\",\"name\":\"\",\"text\":[\"Ol\"],\"textfont\":{\"size\":12},\"textposition\":\"top center\",\"x\":[0.7995901926451348],\"y\":[1.3134600215145045],\"z\":[0.010561362226941817],\"type\":\"scatter3d\"},{\"hovertemplate\":\"\\u003cb\\u003eDa\\u003c\\u002fb\\u003e\",\"marker\":{\"opacity\":0.8,\"size\":10},\"mode\":\"markers+text\",\"name\":\"\",\"text\":[\"Da\"],\"textfont\":{\"size\":12},\"textposition\":\"top center\",\"x\":[-0.49215449660419885],\"y\":[1.1195779191124255],\"z\":[-3.857090117764171],\"type\":\"scatter3d\"},{\"hovertemplate\":\"\\u003cb\\u003eAl\\u003c\\u002fb\\u003e\",\"marker\":{\"opacity\":0.8,\"size\":10},\"mode\":\"markers+text\",\"name\":\"\",\"text\":[\"Al\"],\"textfont\":{\"size\":12},\"textposition\":\"top center\",\"x\":[-0.9140690390536066],\"y\":[-0.42841830727590935],\"z\":[0.4293764636725328],\"type\":\"scatter3d\"},{\"hovertemplate\":\"\\u003cb\\u003eMi\\u003c\\u002fb\\u003e\",\"marker\":{\"opacity\":0.8,\"size\":10},\"mode\":\"markers+text\",\"name\":\"\",\"text\":[\"Mi\"],\"textfont\":{\"size\":12},\"textposition\":\"top center\",\"x\":[-0.1303375083338798],\"y\":[-0.10537462251874041],\"z\":[1.5020375013961633],\"type\":\"scatter3d\"},{\"hovertemplate\":\"Distance: 0.54\\u003cbr\\u003ePoints: Da - Pa\",\"line\":{\"color\":\"black\",\"width\":2},\"mode\":\"lines\",\"showlegend\":false,\"x\":[2.409013442290433,2.654001706055164],\"y\":[0.9789837037742877,0.5380601833765595],\"z\":[0.009011847568784148,-0.1782423402910709],\"type\":\"scatter3d\"},{\"hovertemplate\":\"Distance: 0.65\\u003cbr\\u003ePoints: Es - Cl\",\"line\":{\"color\":\"black\",\"width\":2},\"mode\":\"lines\",\"showlegend\":false,\"x\":[1.0961536232825182,1.5019492439938928],\"y\":[-2.3535190025683828,-2.2944210938388063],\"z\":[-0.7690989635516234,-1.2703657263253296],\"type\":\"scatter3d\"},{\"hovertemplate\":\"Distance: 0.78\\u003cbr\\u003ePoints: Se - Ol\",\"line\":{\"color\":\"black\",\"width\":2},\"mode\":\"lines\",\"showlegend\":false,\"x\":[1.0019015836011191,0.7995901926451348],\"y\":[1.6959177404022876,1.3134600215145045],\"z\":[0.658887839124036,0.010561362226941817],\"type\":\"scatter3d\"},{\"hovertemplate\":\"Distance: 0.83\\u003cbr\\u003ePoints: Ju - Mi\",\"line\":{\"color\":\"black\",\"width\":2},\"mode\":\"lines\",\"showlegend\":false,\"x\":[-0.7775901124685829,-0.11666427154816628],\"y\":[0.8037589103223255,1.2315465920197648],\"z\":[-1.7459406179449584,-1.4887809737501176],\"type\":\"scatter3d\"},{\"hovertemplate\":\"Distance: 0.92\\u003cbr\\u003ePoints: Ka - Sa\",\"line\":{\"color\":\"black\",\"width\":2},\"mode\":\"lines\",\"showlegend\":false,\"x\":[0.4101100227061103,0.2944013479582903],\"y\":[-0.7845608316990029,-0.09926433886138897],\"z\":[-0.7241201142109617,-0.11536370730297296],\"type\":\"scatter3d\"},{\"hovertemplate\":\"Distance: 1.05\\u003cbr\\u003ePoints: Es - Ta\",\"line\":{\"color\":\"black\",\"width\":2},\"mode\":\"lines\",\"showlegend\":false,\"x\":[1.0961536232825182,1.454773093994604],\"y\":[-2.3535190025683828,-1.4895667178293865],\"z\":[-0.7690989635516234,-0.2982882905921658],\"type\":\"scatter3d\"},{\"hovertemplate\":\"Distance: 1.08\\u003cbr\\u003ePoints: An - Sa\",\"line\":{\"color\":\"black\",\"width\":2},\"mode\":\"lines\",\"showlegend\":false,\"x\":[0.3855293363530641,-0.5978835274121423],\"y\":[-1.9643327032340658,-1.7942905347795972],\"z\":[1.8040187860623522,1.398913414836156],\"type\":\"scatter3d\"},{\"hovertemplate\":\"Distance: 1.13\\u003cbr\\u003ePoints: Ka - Be\",\"line\":{\"color\":\"black\",\"width\":2},\"mode\":\"lines\",\"showlegend\":false,\"x\":[0.4101100227061103,1.1240185274170962],\"y\":[-0.7845608316990029,-0.8024526749224585],\"z\":[-0.7241201142109617,-1.5938233770141013],\"type\":\"scatter3d\"},{\"hovertemplate\":\"Distance: 1.13\\u003cbr\\u003ePoints: Jo - Sa\",\"line\":{\"color\":\"black\",\"width\":2},\"mode\":\"lines\",\"showlegend\":false,\"x\":[1.258388621496056,0.2944013479582903],\"y\":[0.19910198372936438,-0.09926433886138897],\"z\":[-0.6277724844451766,-0.11536370730297296],\"type\":\"scatter3d\"},{\"hovertemplate\":\"Distance: 1.26\\u003cbr\\u003ePoints: Cl - Ta\",\"line\":{\"color\":\"black\",\"width\":2},\"mode\":\"lines\",\"showlegend\":false,\"x\":[1.5019492439938928,1.454773093994604],\"y\":[-2.2944210938388063,-1.4895667178293865],\"z\":[-1.2703657263253296,-0.2982882905921658],\"type\":\"scatter3d\"}],                        {\"template\":{\"data\":{\"histogram2dcontour\":[{\"type\":\"histogram2dcontour\",\"colorbar\":{\"outlinewidth\":0,\"ticks\":\"\"},\"colorscale\":[[0.0,\"#0d0887\"],[0.1111111111111111,\"#46039f\"],[0.2222222222222222,\"#7201a8\"],[0.3333333333333333,\"#9c179e\"],[0.4444444444444444,\"#bd3786\"],[0.5555555555555556,\"#d8576b\"],[0.6666666666666666,\"#ed7953\"],[0.7777777777777778,\"#fb9f3a\"],[0.8888888888888888,\"#fdca26\"],[1.0,\"#f0f921\"]]}],\"choropleth\":[{\"type\":\"choropleth\",\"colorbar\":{\"outlinewidth\":0,\"ticks\":\"\"}}],\"histogram2d\":[{\"type\":\"histogram2d\",\"colorbar\":{\"outlinewidth\":0,\"ticks\":\"\"},\"colorscale\":[[0.0,\"#0d0887\"],[0.1111111111111111,\"#46039f\"],[0.2222222222222222,\"#7201a8\"],[0.3333333333333333,\"#9c179e\"],[0.4444444444444444,\"#bd3786\"],[0.5555555555555556,\"#d8576b\"],[0.6666666666666666,\"#ed7953\"],[0.7777777777777778,\"#fb9f3a\"],[0.8888888888888888,\"#fdca26\"],[1.0,\"#f0f921\"]]}],\"heatmap\":[{\"type\":\"heatmap\",\"colorbar\":{\"outlinewidth\":0,\"ticks\":\"\"},\"colorscale\":[[0.0,\"#0d0887\"],[0.1111111111111111,\"#46039f\"],[0.2222222222222222,\"#7201a8\"],[0.3333333333333333,\"#9c179e\"],[0.4444444444444444,\"#bd3786\"],[0.5555555555555556,\"#d8576b\"],[0.6666666666666666,\"#ed7953\"],[0.7777777777777778,\"#fb9f3a\"],[0.8888888888888888,\"#fdca26\"],[1.0,\"#f0f921\"]]}],\"heatmapgl\":[{\"type\":\"heatmapgl\",\"colorbar\":{\"outlinewidth\":0,\"ticks\":\"\"},\"colorscale\":[[0.0,\"#0d0887\"],[0.1111111111111111,\"#46039f\"],[0.2222222222222222,\"#7201a8\"],[0.3333333333333333,\"#9c179e\"],[0.4444444444444444,\"#bd3786\"],[0.5555555555555556,\"#d8576b\"],[0.6666666666666666,\"#ed7953\"],[0.7777777777777778,\"#fb9f3a\"],[0.8888888888888888,\"#fdca26\"],[1.0,\"#f0f921\"]]}],\"contourcarpet\":[{\"type\":\"contourcarpet\",\"colorbar\":{\"outlinewidth\":0,\"ticks\":\"\"}}],\"contour\":[{\"type\":\"contour\",\"colorbar\":{\"outlinewidth\":0,\"ticks\":\"\"},\"colorscale\":[[0.0,\"#0d0887\"],[0.1111111111111111,\"#46039f\"],[0.2222222222222222,\"#7201a8\"],[0.3333333333333333,\"#9c179e\"],[0.4444444444444444,\"#bd3786\"],[0.5555555555555556,\"#d8576b\"],[0.6666666666666666,\"#ed7953\"],[0.7777777777777778,\"#fb9f3a\"],[0.8888888888888888,\"#fdca26\"],[1.0,\"#f0f921\"]]}],\"surface\":[{\"type\":\"surface\",\"colorbar\":{\"outlinewidth\":0,\"ticks\":\"\"},\"colorscale\":[[0.0,\"#0d0887\"],[0.1111111111111111,\"#46039f\"],[0.2222222222222222,\"#7201a8\"],[0.3333333333333333,\"#9c179e\"],[0.4444444444444444,\"#bd3786\"],[0.5555555555555556,\"#d8576b\"],[0.6666666666666666,\"#ed7953\"],[0.7777777777777778,\"#fb9f3a\"],[0.8888888888888888,\"#fdca26\"],[1.0,\"#f0f921\"]]}],\"mesh3d\":[{\"type\":\"mesh3d\",\"colorbar\":{\"outlinewidth\":0,\"ticks\":\"\"}}],\"scatter\":[{\"fillpattern\":{\"fillmode\":\"overlay\",\"size\":10,\"solidity\":0.2},\"type\":\"scatter\"}],\"parcoords\":[{\"type\":\"parcoords\",\"line\":{\"colorbar\":{\"outlinewidth\":0,\"ticks\":\"\"}}}],\"scatterpolargl\":[{\"type\":\"scatterpolargl\",\"marker\":{\"colorbar\":{\"outlinewidth\":0,\"ticks\":\"\"}}}],\"bar\":[{\"error_x\":{\"color\":\"#2a3f5f\"},\"error_y\":{\"color\":\"#2a3f5f\"},\"marker\":{\"line\":{\"color\":\"#E5ECF6\",\"width\":0.5},\"pattern\":{\"fillmode\":\"overlay\",\"size\":10,\"solidity\":0.2}},\"type\":\"bar\"}],\"scattergeo\":[{\"type\":\"scattergeo\",\"marker\":{\"colorbar\":{\"outlinewidth\":0,\"ticks\":\"\"}}}],\"scatterpolar\":[{\"type\":\"scatterpolar\",\"marker\":{\"colorbar\":{\"outlinewidth\":0,\"ticks\":\"\"}}}],\"histogram\":[{\"marker\":{\"pattern\":{\"fillmode\":\"overlay\",\"size\":10,\"solidity\":0.2}},\"type\":\"histogram\"}],\"scattergl\":[{\"type\":\"scattergl\",\"marker\":{\"colorbar\":{\"outlinewidth\":0,\"ticks\":\"\"}}}],\"scatter3d\":[{\"type\":\"scatter3d\",\"line\":{\"colorbar\":{\"outlinewidth\":0,\"ticks\":\"\"}},\"marker\":{\"colorbar\":{\"outlinewidth\":0,\"ticks\":\"\"}}}],\"scattermapbox\":[{\"type\":\"scattermapbox\",\"marker\":{\"colorbar\":{\"outlinewidth\":0,\"ticks\":\"\"}}}],\"scatterternary\":[{\"type\":\"scatterternary\",\"marker\":{\"colorbar\":{\"outlinewidth\":0,\"ticks\":\"\"}}}],\"scattercarpet\":[{\"type\":\"scattercarpet\",\"marker\":{\"colorbar\":{\"outlinewidth\":0,\"ticks\":\"\"}}}],\"carpet\":[{\"aaxis\":{\"endlinecolor\":\"#2a3f5f\",\"gridcolor\":\"white\",\"linecolor\":\"white\",\"minorgridcolor\":\"white\",\"startlinecolor\":\"#2a3f5f\"},\"baxis\":{\"endlinecolor\":\"#2a3f5f\",\"gridcolor\":\"white\",\"linecolor\":\"white\",\"minorgridcolor\":\"white\",\"startlinecolor\":\"#2a3f5f\"},\"type\":\"carpet\"}],\"table\":[{\"cells\":{\"fill\":{\"color\":\"#EBF0F8\"},\"line\":{\"color\":\"white\"}},\"header\":{\"fill\":{\"color\":\"#C8D4E3\"},\"line\":{\"color\":\"white\"}},\"type\":\"table\"}],\"barpolar\":[{\"marker\":{\"line\":{\"color\":\"#E5ECF6\",\"width\":0.5},\"pattern\":{\"fillmode\":\"overlay\",\"size\":10,\"solidity\":0.2}},\"type\":\"barpolar\"}],\"pie\":[{\"automargin\":true,\"type\":\"pie\"}]},\"layout\":{\"autotypenumbers\":\"strict\",\"colorway\":[\"#636efa\",\"#EF553B\",\"#00cc96\",\"#ab63fa\",\"#FFA15A\",\"#19d3f3\",\"#FF6692\",\"#B6E880\",\"#FF97FF\",\"#FECB52\"],\"font\":{\"color\":\"#2a3f5f\"},\"hovermode\":\"closest\",\"hoverlabel\":{\"align\":\"left\"},\"paper_bgcolor\":\"white\",\"plot_bgcolor\":\"#E5ECF6\",\"polar\":{\"bgcolor\":\"#E5ECF6\",\"angularaxis\":{\"gridcolor\":\"white\",\"linecolor\":\"white\",\"ticks\":\"\"},\"radialaxis\":{\"gridcolor\":\"white\",\"linecolor\":\"white\",\"ticks\":\"\"}},\"ternary\":{\"bgcolor\":\"#E5ECF6\",\"aaxis\":{\"gridcolor\":\"white\",\"linecolor\":\"white\",\"ticks\":\"\"},\"baxis\":{\"gridcolor\":\"white\",\"linecolor\":\"white\",\"ticks\":\"\"},\"caxis\":{\"gridcolor\":\"white\",\"linecolor\":\"white\",\"ticks\":\"\"}},\"coloraxis\":{\"colorbar\":{\"outlinewidth\":0,\"ticks\":\"\"}},\"colorscale\":{\"sequential\":[[0.0,\"#0d0887\"],[0.1111111111111111,\"#46039f\"],[0.2222222222222222,\"#7201a8\"],[0.3333333333333333,\"#9c179e\"],[0.4444444444444444,\"#bd3786\"],[0.5555555555555556,\"#d8576b\"],[0.6666666666666666,\"#ed7953\"],[0.7777777777777778,\"#fb9f3a\"],[0.8888888888888888,\"#fdca26\"],[1.0,\"#f0f921\"]],\"sequentialminus\":[[0.0,\"#0d0887\"],[0.1111111111111111,\"#46039f\"],[0.2222222222222222,\"#7201a8\"],[0.3333333333333333,\"#9c179e\"],[0.4444444444444444,\"#bd3786\"],[0.5555555555555556,\"#d8576b\"],[0.6666666666666666,\"#ed7953\"],[0.7777777777777778,\"#fb9f3a\"],[0.8888888888888888,\"#fdca26\"],[1.0,\"#f0f921\"]],\"diverging\":[[0,\"#8e0152\"],[0.1,\"#c51b7d\"],[0.2,\"#de77ae\"],[0.3,\"#f1b6da\"],[0.4,\"#fde0ef\"],[0.5,\"#f7f7f7\"],[0.6,\"#e6f5d0\"],[0.7,\"#b8e186\"],[0.8,\"#7fbc41\"],[0.9,\"#4d9221\"],[1,\"#276419\"]]},\"xaxis\":{\"gridcolor\":\"white\",\"linecolor\":\"white\",\"ticks\":\"\",\"title\":{\"standoff\":15},\"zerolinecolor\":\"white\",\"automargin\":true,\"zerolinewidth\":2},\"yaxis\":{\"gridcolor\":\"white\",\"linecolor\":\"white\",\"ticks\":\"\",\"title\":{\"standoff\":15},\"zerolinecolor\":\"white\",\"automargin\":true,\"zerolinewidth\":2},\"scene\":{\"xaxis\":{\"backgroundcolor\":\"#E5ECF6\",\"gridcolor\":\"white\",\"linecolor\":\"white\",\"showbackground\":true,\"ticks\":\"\",\"zerolinecolor\":\"white\",\"gridwidth\":2},\"yaxis\":{\"backgroundcolor\":\"#E5ECF6\",\"gridcolor\":\"white\",\"linecolor\":\"white\",\"showbackground\":true,\"ticks\":\"\",\"zerolinecolor\":\"white\",\"gridwidth\":2},\"zaxis\":{\"backgroundcolor\":\"#E5ECF6\",\"gridcolor\":\"white\",\"linecolor\":\"white\",\"showbackground\":true,\"ticks\":\"\",\"zerolinecolor\":\"white\",\"gridwidth\":2}},\"shapedefaults\":{\"line\":{\"color\":\"#2a3f5f\"}},\"annotationdefaults\":{\"arrowcolor\":\"#2a3f5f\",\"arrowhead\":0,\"arrowwidth\":1},\"geo\":{\"bgcolor\":\"white\",\"landcolor\":\"#E5ECF6\",\"subunitcolor\":\"white\",\"showland\":true,\"showlakes\":true,\"lakecolor\":\"white\"},\"title\":{\"x\":0.05},\"mapbox\":{\"style\":\"light\"}}},\"title\":{\"text\":\"3D PCA\"},\"scene\":{\"xaxis\":{\"title\":{\"text\":\"\"}},\"yaxis\":{\"title\":{\"text\":\"\"}},\"zaxis\":{\"title\":{\"text\":\"\"}}},\"showlegend\":false,\"height\":1000},                        {\"responsive\": true}                    ).then(function(){\n",
       "                            \n",
       "var gd = document.getElementById('968532a9-78a5-47a0-9deb-85fdbf8b241b');\n",
       "var x = new MutationObserver(function (mutations, observer) {{\n",
       "        var display = window.getComputedStyle(gd).display;\n",
       "        if (!display || display === 'none') {{\n",
       "            console.log([gd, 'removed!']);\n",
       "            Plotly.purge(gd);\n",
       "            observer.disconnect();\n",
       "        }}\n",
       "}});\n",
       "\n",
       "// Listen for the removal of the full notebook cells\n",
       "var notebookContainer = gd.closest('#notebook-container');\n",
       "if (notebookContainer) {{\n",
       "    x.observe(notebookContainer, {childList: true});\n",
       "}}\n",
       "\n",
       "// Listen for the clearing of the current output cell\n",
       "var outputEl = gd.closest('.output');\n",
       "if (outputEl) {{\n",
       "    x.observe(outputEl, {childList: true});\n",
       "}}\n",
       "\n",
       "                        })                };                });            </script>        </div>"
      ]
     },
     "metadata": {},
     "output_type": "display_data"
    }
   ],
   "source": [
    "def plot_3D_PCA_plotly(res_df, full_df, project_fldr, n_connections=10):\n",
    "    data = res_df.drop(['first_inits'], axis='columns')\n",
    "    pca = PCA(n_components=3)\n",
    "    fit_pca = pca.fit(data)\n",
    "    reduced = fit_pca.transform(data)\n",
    "    \n",
    "    # calculate distances between all points to draw lines between closest pairs in 3D\n",
    "    distances = pdist(reduced)\n",
    "    dist_matrix = squareform(distances)\n",
    "    dist_matrix_copy = dist_matrix.copy()\n",
    "    np.fill_diagonal(dist_matrix_copy, np.inf) # avoid matching to self (fill diagonal of matrix with inf)\n",
    "    closest_pairs = []\n",
    "    \n",
    "    for _ in range(n_connections): # default 10\n",
    "        min_idx = np.unravel_index(np.argmin(dist_matrix_copy), dist_matrix_copy.shape)\n",
    "        closest_pairs.append(min_idx)\n",
    "        dist_matrix_copy[min_idx] = np.inf   # set to inf after appending closest_pairs to find the next closest... \n",
    "        dist_matrix_copy[min_idx[1], min_idx[0]] = np.inf\n",
    "    \n",
    "    fig = go.Figure()\n",
    "    for i in range(len(full_df)):\n",
    "        fig.add_trace(\n",
    "            go.Scatter3d(\n",
    "                x=[reduced[i,0]],\n",
    "                y=[reduced[i,1]],\n",
    "                z=[reduced[i,2]],\n",
    "                mode='markers+text',\n",
    "                name='',\n",
    "                text=[full_df['first_inits'][i]],\n",
    "                textposition='top center',\n",
    "                hovertemplate=f\"<b>{full_df['first_inits'][i]}</b>\",\n",
    "                marker=dict(\n",
    "                    size=10,\n",
    "                    opacity=0.8), \n",
    "                textfont_size =12,))\n",
    "    \n",
    "    # draw lines between closest pairs\n",
    "    for pair in closest_pairs:\n",
    "        i, j = pair\n",
    "        fig.add_trace(\n",
    "            go.Scatter3d(\n",
    "                x=[reduced[i,0], reduced[j,0]],\n",
    "                y=[reduced[i,1], reduced[j,1]],\n",
    "                z=[reduced[i,2], reduced[j,2]],\n",
    "                mode='lines',\n",
    "                line=dict(color='black', width=2),\n",
    "                hovertemplate=f\"Distance: {dist_matrix[i,j]:.2f}<br>\" +\n",
    "                             f\"Points: {full_df['first_inits'][i]} - {full_df['first_inits'][j]}\",\n",
    "                showlegend=False))\n",
    "    \n",
    "    fig.update_layout(\n",
    "        title=\"3D PCA\",\n",
    "        scene=dict(\n",
    "            xaxis_title=\"\",\n",
    "            yaxis_title=\"\",\n",
    "            zaxis_title=\"\"),\n",
    "        showlegend=False,\n",
    "        height=1000\n",
    "    )\n",
    "    \n",
    "    fig.write_html(os.path.join(project_fldr, 'PCA_3D.html'))\n",
    "    fig.show()\n",
    "\n",
    "plot_3D_PCA_plotly(res_df, full_df, project_fldr)"
   ]
  }
 ],
 "metadata": {
  "kernelspec": {
   "display_name": "Python 3 (ipykernel)",
   "language": "python",
   "name": "python3"
  },
  "language_info": {
   "codemirror_mode": {
    "name": "ipython",
    "version": 3
   },
   "file_extension": ".py",
   "mimetype": "text/x-python",
   "name": "python",
   "nbconvert_exporter": "python",
   "pygments_lexer": "ipython3",
   "version": "3.12.3"
  }
 },
 "nbformat": 4,
 "nbformat_minor": 5
}
